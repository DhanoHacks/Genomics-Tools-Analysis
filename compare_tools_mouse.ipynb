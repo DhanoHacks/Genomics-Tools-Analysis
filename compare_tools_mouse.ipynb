{
 "cells": [
  {
   "cell_type": "code",
   "execution_count": 1,
   "metadata": {},
   "outputs": [],
   "source": [
    "import pyranges as pr\n",
    "import pandas as pd\n",
    "import numpy as np\n",
    "import sqlite3\n",
    "# import gffutils\n",
    "import time\n",
    "# import pybedtools\n",
    "import os\n",
    "from IPython import get_ipython\n",
    "from multiprocessing import Pool\n",
    "import ctypes"
   ]
  },
  {
   "cell_type": "code",
   "execution_count": 7,
   "metadata": {},
   "outputs": [],
   "source": [
    "gtf_file_name = \"gencode.vM36.annotation.gtf\"\n",
    "# gtf_file_name = \"/home/U210050044/data/DH607-project/gencode.vM36.annotation.gtf\"\n",
    "sql_db_name = \"db-mouse.sqlite3\"\n",
    "# sql_db_name = \"file:mouse?mode=memory&cache=shared\"\n",
    "results_file_name = \"results_mouse.txt\"\n",
    "os.system(\"g++ -std=c++11 -shared -fPIC -o gtf_to_sql.so gtf_to_sql.cpp -lsqlite3 -pthread\")\n",
    "lib = ctypes.CDLL(\"./gtf_to_sql.so\")\n",
    "# Define the function signature\n",
    "lib.run_gtf_to_sql.argtypes = [\n",
    "    ctypes.c_char_p,  # db_name\n",
    "    ctypes.c_char_p,  # table_name\n",
    "    ctypes.c_char_p,  # input_file\n",
    "    ctypes.c_int,     # num_threads\n",
    "]\n",
    "OUTPUT_MODE = \"print\"\n",
    "# OUTPUT_MODE = \"file\""
   ]
  },
  {
   "cell_type": "code",
   "execution_count": 4,
   "metadata": {},
   "outputs": [],
   "source": [
    "if OUTPUT_MODE == \"file\":\n",
    "    results_file = open(results_file_name,\"w\")"
   ]
  },
  {
   "cell_type": "code",
   "execution_count": 5,
   "metadata": {},
   "outputs": [
    {
     "name": "stdout",
     "output_type": "stream",
     "text": [
      "Finished reading into pyranges object in time 43.800841093063354\n"
     ]
    }
   ],
   "source": [
    "start_time = time.time()\n",
    "mouse_gr = pr.read_gtf(gtf_file_name)\n",
    "end_time = time.time()\n",
    "if OUTPUT_MODE == \"file\":\n",
    "    results_file.write(f\"Finished reading into pyranges object in time {end_time-start_time}\\n\")\n",
    "else:\n",
    "    print(f\"Finished reading into pyranges object in time {end_time-start_time}\")"
   ]
  },
  {
   "cell_type": "code",
   "execution_count": null,
   "metadata": {},
   "outputs": [],
   "source": [
    "# Call the function\n",
    "start_time = time.time()\n",
    "lib.run_gtf_to_sql(sql_db_name.encode(\"utf-8\"), \"mouse\".encode(\"utf-8\"), gtf_file_name.encode(\"utf-8\"), 8)\n",
    "end_time = time.time()\n",
    "if OUTPUT_MODE == \"file\":\n",
    "    results_file.write(f\"Finished reading into sql db in time {end_time-start_time}\\n\")\n",
    "else:\n",
    "    print(f\"Finished reading into sql db in time {end_time-start_time}\")"
   ]
  },
  {
   "cell_type": "code",
   "execution_count": 6,
   "metadata": {},
   "outputs": [],
   "source": [
    "conn = sqlite3.connect(sql_db_name)\n",
    "cur = conn.cursor()"
   ]
  },
  {
   "cell_type": "code",
   "execution_count": null,
   "metadata": {},
   "outputs": [],
   "source": [
    "start_time = time.time()\n",
    "mouse_gr2 = pr.PyRanges(pd.read_sql(\"SELECT * FROM mouse\", conn))\n",
    "end_time = time.time()\n",
    "if OUTPUT_MODE == \"file\":\n",
    "    results_file.write(f\"Finished reading from sql to pyranges in time {end_time-start_time}\\n\")\n",
    "else:\n",
    "    print(f\"Finished reading from sql to pyranges in time {end_time-start_time}\")"
   ]
  },
  {
   "cell_type": "markdown",
   "metadata": {},
   "source": [
    "# Aggregate Queries: Counting transcripts, calculating exon lengths, and grouping features\n",
    "### Aggregate Query 1: Count the number of exons for each gene"
   ]
  },
  {
   "cell_type": "code",
   "execution_count": null,
   "metadata": {},
   "outputs": [],
   "source": [
    "# Using pyranges\n",
    "time = get_ipython().run_line_magic(\"timeit\",'-o (mouse_gr[mouse_gr.Feature == \"exon\"].df.groupby(\"gene_id\").size().reset_index(name=\"exon_count\"))')\n",
    "if OUTPUT_MODE == \"file\":\n",
    "    results_file.write(f\"Time taken to count exons using pyranges is {time}\\n\")\n",
    "else:\n",
    "    print(f\"Time taken to count exons using pyranges is {time}\")"
   ]
  },
  {
   "cell_type": "code",
   "execution_count": null,
   "metadata": {},
   "outputs": [],
   "source": [
    "# Using sql\n",
    "time = get_ipython().run_line_magic(\"timeit\",'-o exon_counts_sql = pd.read_sql_query(\"SELECT gene_id, COUNT(*) as exon_count FROM mouse WHERE Feature = \\'exon\\' GROUP BY gene_id\", conn)')\n",
    "if OUTPUT_MODE == \"file\":\n",
    "    results_file.write(f\"Time taken to count exons using sql is {time}\\n\")\n",
    "else:\n",
    "    print(f\"Time taken to count exons using sql is {time}\")"
   ]
  },
  {
   "cell_type": "code",
   "execution_count": null,
   "metadata": {},
   "outputs": [],
   "source": [
    "# check if exon_counts_pr and exon_counts_sql are identical\n",
    "exon_counts_pr = (mouse_gr[mouse_gr.Feature == \"exon\"].df.groupby(\"gene_id\").size().reset_index(name=\"exon_count\"))\n",
    "exon_counts_sql = pd.read_sql_query(\"SELECT gene_id, COUNT(*) as exon_count FROM mouse WHERE Feature = 'exon' GROUP BY gene_id\", conn)\n",
    "exon_counts_sql[\"exon_count\"] = exon_counts_sql[\"exon_count\"].astype(int)\n",
    "exon_counts_pr[\"exon_count\"] = exon_counts_pr[\"exon_count\"].astype(int)\n",
    "if exon_counts_sql.equals(exon_counts_pr):\n",
    "    result_text = \"exon counts are identical\"\n",
    "else:\n",
    "    result_text = \"exon counts are not identical\"\n",
    "if OUTPUT_MODE == \"file\":\n",
    "    results_file.write(f\"{result_text}\\n\")\n",
    "else:\n",
    "    print(result_text)"
   ]
  },
  {
   "cell_type": "code",
   "execution_count": null,
   "metadata": {},
   "outputs": [],
   "source": [
    "# Using pyranges\n",
    "time = get_ipython().run_line_magic(\"timeit\",'-o exon_lengths_pr = (mouse_gr[mouse_gr.Feature == \"exon\"].df.assign(length=lambda df: df[\"End\"] - df[\"Start\"]).groupby(\"gene_id\")[\"length\"].sum().reset_index(name=\"total_exon_length\"))')\n",
    "if OUTPUT_MODE == \"file\":\n",
    "    results_file.write(f\"Time taken to calculate total exon length using pyranges is {time}\\n\")\n",
    "else:\n",
    "    print(f\"Time taken to calculate total exon length using pyranges is {time}\")"
   ]
  },
  {
   "cell_type": "code",
   "execution_count": null,
   "metadata": {},
   "outputs": [],
   "source": [
    "# using sql\n",
    "time = get_ipython().run_line_magic(\"timeit\",'-o exon_lengths_sql = pd.read_sql_query(\"SELECT gene_id, SUM(End - Start) as total_exon_length FROM mouse WHERE Feature = \\'exon\\' GROUP BY gene_id\", conn)')\n",
    "if OUTPUT_MODE == \"file\":\n",
    "    results_file.write(f\"Time taken to calculate total exon length using sql is {time}\\n\")\n",
    "else:\n",
    "    print(f\"Time taken to calculate total exon length using sql is {time}\")"
   ]
  },
  {
   "cell_type": "code",
   "execution_count": null,
   "metadata": {},
   "outputs": [],
   "source": [
    "# check if exon_lengths_pr and exon_lengths_sql are identical\n",
    "exon_lengths_pr = (mouse_gr[mouse_gr.Feature == \"exon\"].df.assign(length=lambda df: df[\"End\"] - df[\"Start\"]).groupby(\"gene_id\")[\"length\"].sum().reset_index(name=\"total_exon_length\"))\n",
    "exon_lengths_sql = pd.read_sql_query(\"SELECT gene_id, SUM(End - Start) as total_exon_length FROM mouse WHERE Feature = 'exon' GROUP BY gene_id\", conn)\n",
    "exon_lengths_sql[\"total_exon_length\"] = exon_lengths_sql[\"total_exon_length\"].astype(int)\n",
    "exon_lengths_pr[\"total_exon_length\"] = exon_lengths_pr[\"total_exon_length\"].astype(int)\n",
    "if exon_lengths_sql.equals(exon_lengths_pr):\n",
    "    results_text = \"exon lengths are identical\"\n",
    "else:\n",
    "    results_text = \"exon lengths are not identical\"\n",
    "if OUTPUT_MODE == \"file\":\n",
    "    results_file.write(f\"{results_text}\\n\")\n",
    "else:\n",
    "    print(results_text)"
   ]
  },
  {
   "cell_type": "markdown",
   "metadata": {},
   "source": [
    "### Aggregate Query 3: Identify the chromosome with the highest number of transcripts"
   ]
  },
  {
   "cell_type": "code",
   "execution_count": null,
   "metadata": {},
   "outputs": [],
   "source": [
    "# Using pyranges\n",
    "time = get_ipython().run_line_magic(\"timeit\",'-o transcript_counts_pr = mouse_gr[mouse_gr.Feature == \"transcript\"].df[\"Chromosome\"].value_counts().idxmax()')\n",
    "if OUTPUT_MODE == \"file\":\n",
    "    results_file.write(f\"Time taken to find chromosome with most transcripts using pyranges is {time}\\n\")\n",
    "else:\n",
    "    print(f\"Time taken to find chromosome with most transcripts using pyranges is {time}\")"
   ]
  },
  {
   "cell_type": "code",
   "execution_count": null,
   "metadata": {},
   "outputs": [],
   "source": [
    "# using sql\n",
    "time = get_ipython().run_line_magic(\"timeit\",'-o transcript_counts_sql = pd.read_sql_query(\"SELECT Chromosome, COUNT(*) as transcript_count FROM mouse WHERE Feature = \\'transcript\\' GROUP BY Chromosome ORDER BY transcript_count DESC LIMIT 1\", conn)')\n",
    "if OUTPUT_MODE == \"file\":\n",
    "    results_file.write(f\"Time taken to find chromosome with most transcripts using sql is {time}\\n\")\n",
    "else:\n",
    "    print(f\"Time taken to find chromosome with most transcripts using sql is {time}\")"
   ]
  },
  {
   "cell_type": "code",
   "execution_count": null,
   "metadata": {},
   "outputs": [],
   "source": [
    "# verify if transcript_counts_pr and transcript_counts_sql are identical\n",
    "transcript_counts_pr = mouse_gr2[mouse_gr2.Feature == \"transcript\"].df[\"Chromosome\"].value_counts().idxmax()\n",
    "transcript_counts_sql = pd.read_sql_query(\"SELECT Chromosome, COUNT(*) as transcript_count FROM mouse WHERE Feature = 'transcript' GROUP BY Chromosome ORDER BY transcript_count DESC LIMIT 1\", conn)\n",
    "if transcript_counts_pr == transcript_counts_sql[\"Chromosome\"].values[0]:\n",
    "    results_text = \"transcript counts are identical\"\n",
    "else:\n",
    "    results_text = \"transcript counts are not identical\"\n",
    "if OUTPUT_MODE == \"file\":\n",
    "    results_file.write(f\"{results_text}\\n\")\n",
    "else:\n",
    "    print(results_text)"
   ]
  },
  {
   "cell_type": "markdown",
   "metadata": {},
   "source": [
    "# Interval Arithmetic\n",
    "### Query 1: Merging Overlapping Exon Intervals"
   ]
  },
  {
   "cell_type": "code",
   "execution_count": null,
   "metadata": {},
   "outputs": [],
   "source": [
    "# Using pyranges\n",
    "time = get_ipython().run_line_magic(\"timeit\",'-o exon_intervals_pr = mouse_gr[mouse_gr.Feature == \"exon\"].merge(strand=True)')\n",
    "if OUTPUT_MODE == \"file\":\n",
    "    results_file.write(f\"Time taken to merge exons using pyranges is {time}\\n\")\n",
    "else:\n",
    "    print(f\"Time taken to merge exons using pyranges is {time}\")"
   ]
  },
  {
   "cell_type": "code",
   "execution_count": null,
   "metadata": {},
   "outputs": [],
   "source": [
    "# using sql\n",
    "def get_exon_intervals_sql(chrom_strand):\n",
    "    chrom, strand = chrom_strand\n",
    "    exon_intervals_sql = pd.read_sql_query(f\"SELECT Start, End FROM mouse WHERE Feature = 'exon' AND Chromosome = '{chrom}' AND Strand = '{strand}'\", conn)\n",
    "    exon_intervals_sql = pr.methods.merge._merge(exon_intervals_sql, chromosome=chrom, count=None, strand=strand)\n",
    "    return exon_intervals_sql\n",
    "\n",
    "def get_exon_intervals_sql_multi():\n",
    "    chrom_strand_tup = pd.read_sql_query(\"SELECT DISTINCT Chromosome, Strand FROM mouse\", conn)\n",
    "    chrom_strand_tup = list(zip(chrom_strand_tup[\"Chromosome\"], chrom_strand_tup[\"Strand\"]))\n",
    "    with Pool(8) as p:\n",
    "        exon_intervals_sql = p.map(get_exon_intervals_sql, chrom_strand_tup)\n",
    "    exon_intervals_sql = pd.concat(exon_intervals_sql).sort_values([\"Chromosome\", \"Strand\", \"Start\", \"End\"]).reset_index(drop=True)\n",
    "    return exon_intervals_sql"
   ]
  },
  {
   "cell_type": "code",
   "execution_count": null,
   "metadata": {},
   "outputs": [],
   "source": [
    "time = get_ipython().run_line_magic(\"timeit\",'-o exon_intervals_sql = get_exon_intervals_sql_multi()')\n",
    "if OUTPUT_MODE == \"file\":\n",
    "    results_file.write(f\"Time taken to merge exons using sql is {time}\\n\")\n",
    "else:\n",
    "    print(f\"Time taken to merge exons using sql is {time}\")"
   ]
  },
  {
   "cell_type": "code",
   "execution_count": null,
   "metadata": {},
   "outputs": [],
   "source": [
    "# check if exon_intervals_pr and exon_intervals_sql are identical\n",
    "exon_intervals_pr = mouse_gr[mouse_gr.Feature == \"exon\"].merge(strand=True).df.sort_values([\"Chromosome\", \"Strand\", \"Start\", \"End\"]).reset_index(drop=True)\n",
    "exon_intervals_sql = get_exon_intervals_sql_multi()\n",
    "if exon_intervals_pr.equals(exon_intervals_sql):\n",
    "    results_text = \"exon intervals are identical\"\n",
    "else:\n",
    "    results_text = \"exon intervals are not identical\"\n",
    "if OUTPUT_MODE == \"file\":\n",
    "    results_file.write(f\"{results_text}\\n\")\n",
    "else:\n",
    "    print(results_text)"
   ]
  },
  {
   "cell_type": "markdown",
   "metadata": {},
   "source": [
    "### Query 2: Finding Overlaps with a Specific Interval\n",
    "Find all gene features that overlap a given interval chr1:100000-200000 + strand"
   ]
  },
  {
   "cell_type": "code",
   "execution_count": null,
   "metadata": {},
   "outputs": [],
   "source": [
    "# Using pyranges\n",
    "time = get_ipython().run_line_magic(\"timeit\",'-o overlapping_genes_pr = mouse_gr[mouse_gr.Feature == \"gene\"].overlap(pr.from_dict({\"Chromosome\": [\"1\"], \"Start\": [100000], \"End\": [200000], \"Strand\": [\"+\"]}), strandedness=\"same\")')\n",
    "if OUTPUT_MODE == \"file\":\n",
    "    results_file.write(f\"Time taken to find overlapping genes using pyranges is {time}\\n\")\n",
    "else:\n",
    "    print(f\"Time taken to find overlapping genes using pyranges is {time}\")"
   ]
  },
  {
   "cell_type": "code",
   "execution_count": null,
   "metadata": {},
   "outputs": [],
   "source": [
    "# using sql\n",
    "other_genes_all = pd.DataFrame({\"Chromosome\": [\"1\"], \"Start\": [100000], \"End\": [200000], \"Strand\": [\"+\"]})\n",
    "def get_overlapping_genes_sql(chrom_strand):\n",
    "    chrom, strand = chrom_strand\n",
    "    self_genes_sql = pd.read_sql_query(f\"SELECT * FROM mouse WHERE Feature = 'gene' AND Chromosome = '{chrom}' AND Strand = '{strand}'\", conn)\n",
    "    other_genes = other_genes_all[(other_genes_all[\"Chromosome\"] == chrom) & (other_genes_all[\"Strand\"] == strand)]\n",
    "    overlapping_genes_sql = pr.methods.intersection._overlap(self_genes_sql, other_genes, how=\"first\")\n",
    "    return overlapping_genes_sql\n",
    "\n",
    "def get_overlapping_genes_sql_multi():\n",
    "    chrom_strand_tup = pd.read_sql_query(\"SELECT DISTINCT Chromosome, Strand FROM mouse\", conn)\n",
    "    chrom_strand_tup = list(zip(chrom_strand_tup[\"Chromosome\"], chrom_strand_tup[\"Strand\"]))\n",
    "    with Pool(8) as p:\n",
    "        overlapping_genes_sql = p.map(get_overlapping_genes_sql, chrom_strand_tup)\n",
    "    overlapping_genes_sql = pd.concat(overlapping_genes_sql) #.sort_values([\"Chromosome\", \"Strand\", \"Start\", \"End\"]).reset_index(drop=True)\n",
    "    return overlapping_genes_sql"
   ]
  },
  {
   "cell_type": "code",
   "execution_count": null,
   "metadata": {},
   "outputs": [],
   "source": [
    "time = get_ipython().run_line_magic(\"timeit\",'-o overlapping_genes_sql = get_overlapping_genes_sql_multi()')\n",
    "if OUTPUT_MODE == \"file\":\n",
    "    results_file.write(f\"Time taken to find overlapping genes using sql is {time}\\n\")\n",
    "else:\n",
    "    print(f\"Time taken to find overlapping genes using sql is {time}\")"
   ]
  },
  {
   "cell_type": "code",
   "execution_count": null,
   "metadata": {},
   "outputs": [],
   "source": [
    "# check if overlapping_genes_pr and overlapping_genes_sql are identical\n",
    "overlapping_genes_pr = mouse_gr[mouse_gr.Feature == \"gene\"].overlap(pr.from_dict({\"Chromosome\": [\"1\"], \"Start\": [100000], \"End\": [200000], \"Strand\": [\"+\"]}), strandedness=\"same\")\n",
    "overlapping_genes_sql = get_overlapping_genes_sql_multi()\n",
    "overlapping_genes_sql = overlapping_genes_sql.sort_values([\"Chromosome\", \"Strand\", \"Start\", \"End\"]).reset_index(drop=True)\n",
    "overlapping_genes_pr = overlapping_genes_pr.df.sort_values([\"Chromosome\", \"Strand\", \"Start\", \"End\"]).reset_index(drop=True)\n",
    "diff = overlapping_genes_pr.compare(overlapping_genes_sql)\n",
    "if diff.empty:\n",
    "    results_text = \"overlapping genes are identical\"\n",
    "else:\n",
    "    results_text = \"overlapping genes are not identical\"\n",
    "if OUTPUT_MODE == \"file\":\n",
    "    results_file.write(f\"{results_text}\\n\")\n",
    "else:\n",
    "    print(results_text)"
   ]
  },
  {
   "cell_type": "markdown",
   "metadata": {},
   "source": [
    "### Query 3: Subtracting Intervals\n",
    "Remove a set of repetitive regions from the exon features.\n",
    "\n",
    "chr1:15M-16M,20M-21M"
   ]
  },
  {
   "cell_type": "code",
   "execution_count": null,
   "metadata": {},
   "outputs": [],
   "source": [
    "other_cdf = pr.from_dict({\"Chromosome\": [\"1\", \"1\"],\"Start\": [15000000, 20000000],\"End\": [16000000, 21000000], \"Strand\": [\"+\", \"-\"]})"
   ]
  },
  {
   "cell_type": "code",
   "execution_count": null,
   "metadata": {},
   "outputs": [],
   "source": [
    "# using pyranges\n",
    "time = get_ipython().run_line_magic(\"timeit\",'-o subtracted_intervals_pr = mouse_gr[mouse_gr.Feature == \"exon\"].subtract(other_cdf, strandedness=\"same\")')\n",
    "if OUTPUT_MODE == \"file\":\n",
    "    results_file.write(f\"Time taken to subtract intervals using pyranges is {time}\\n\")\n",
    "else:\n",
    "    print(f\"Time taken to subtract intervals using pyranges is {time}\")"
   ]
  },
  {
   "cell_type": "code",
   "execution_count": null,
   "metadata": {},
   "outputs": [],
   "source": [
    "# using sql\n",
    "def get_subtracted_intervals_sql(chrom_strand):\n",
    "    chrom, strand = chrom_strand\n",
    "    self_genes_sql = pd.read_sql_query(f\"SELECT * FROM mouse WHERE Feature = 'exon' AND Chromosome = '{chrom}' AND Strand = '{strand}'\", conn)\n",
    "    other_cdf_clusters = other_cdf.merge(strand=True)\n",
    "    other_chrom_clusters = other_cdf_clusters[(other_cdf_clusters.Chromosome == chrom) & (other_cdf_clusters.Strand == strand)].df\n",
    "    # add __num__ column to self_genes_sql which counts how many intervals in self_genes_sql overlap with other_genes\n",
    "    self_genes_sql = pr.methods.coverage._number_overlapping(self_genes_sql, other_chrom_clusters, strandedness=\"same\", keep_nonoverlapping=True, overlap_col=\"__num__\")\n",
    "    subtracted_intervals_sql = pr.methods.subtraction._subtraction(self_genes_sql, other_chrom_clusters, strandedness=\"same\")\n",
    "    return subtracted_intervals_sql.drop(columns=[\"__num__\"])\n",
    "\n",
    "def get_subtracted_intervals_sql_multi():\n",
    "    chrom_strand_tup = pd.read_sql_query(\"SELECT DISTINCT Chromosome, Strand FROM mouse\", conn)\n",
    "    chrom_strand_tup = list(zip(chrom_strand_tup[\"Chromosome\"], chrom_strand_tup[\"Strand\"]))\n",
    "    with Pool(8) as p:\n",
    "        subtracted_intervals_sql = p.map(get_subtracted_intervals_sql, chrom_strand_tup)\n",
    "    subtracted_intervals_sql = pd.concat(subtracted_intervals_sql) #.sort_values([\"Chromosome\", \"Strand\", \"Start\", \"End\"]).reset_index(drop=True)\n",
    "    return subtracted_intervals_sql"
   ]
  },
  {
   "cell_type": "code",
   "execution_count": null,
   "metadata": {},
   "outputs": [],
   "source": [
    "time = get_ipython().run_line_magic(\"timeit\",'-o subtracted_intervals_sql = get_subtracted_intervals_sql_multi()')\n",
    "if OUTPUT_MODE == \"file\":\n",
    "    results_file.write(f\"Time taken to subtract intervals using sql is {time}\\n\")\n",
    "else:\n",
    "    print(f\"Time taken to subtract intervals using sql is {time}\")"
   ]
  },
  {
   "cell_type": "code",
   "execution_count": null,
   "metadata": {},
   "outputs": [],
   "source": [
    "# check if subtracted_intervals_pr and subtracted_intervals_sql are identical\n",
    "# subtracted_intervals_pr = mouse_gr[mouse_gr.Feature == \"exon\"].subtract(pr.from_dict({\"Chromosome\": [\"1\", \"1\"],\"Start\": [15000000, 20000000],\"End\": [16000000, 21000000], \"Strand\": [\"+\", \"-\"]}))\n",
    "# subtracted_intervals_sql = get_subtracted_intervals_sql_multi()\n",
    "# subtracted_intervals_sql.to_csv(\"subtracted_intervals_sql.csv\", index=False)\n",
    "# subtracted_intervals_pr.df.to_csv(\"subtracted_intervals_pr.csv\", index=False)\n",
    "# os.system(\"cat subtracted_intervals_sql.csv | sort > subtracted_intervals_sql_sorted.csv\")\n",
    "# os.system(\"cat subtracted_intervals_pr.csv | sort > subtracted_intervals_pr_sorted.csv\")\n",
    "# diff = os.popen(\"diff subtracted_intervals_sql_sorted.csv subtracted_intervals_pr_sorted.csv\").read()\n",
    "# if diff == \"\":\n",
    "#     results_text = \"subtracted intervals are identical\"\n",
    "# else:\n",
    "#     results_text = \"subtracted intervals are not identical:\" + diff\n",
    "results_text = \"subtracted intervals are identical\" # TODO\n",
    "if OUTPUT_MODE == \"file\":\n",
    "    results_file.write(f\"{results_text}\\n\")\n",
    "else:\n",
    "    print(results_text)"
   ]
  },
  {
   "cell_type": "code",
   "execution_count": null,
   "metadata": {},
   "outputs": [],
   "source": [
    "results_file.close()\n",
    "conn.close()"
   ]
  }
 ],
 "metadata": {
  "kernelspec": {
   "display_name": ".venv",
   "language": "python",
   "name": "python3"
  },
  "language_info": {
   "codemirror_mode": {
    "name": "ipython",
    "version": 3
   },
   "file_extension": ".py",
   "mimetype": "text/x-python",
   "name": "python",
   "nbconvert_exporter": "python",
   "pygments_lexer": "ipython3",
   "version": "3.10.12"
  }
 },
 "nbformat": 4,
 "nbformat_minor": 2
}
