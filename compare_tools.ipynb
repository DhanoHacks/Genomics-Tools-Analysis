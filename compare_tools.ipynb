{
 "cells": [
  {
   "cell_type": "code",
   "execution_count": 1,
   "metadata": {},
   "outputs": [],
   "source": [
    "import pyranges as pr\n",
    "import pandas as pd\n",
    "import numpy as np\n",
    "import sqlite3\n",
    "# import gffutils\n",
    "import time\n",
    "# import pybedtools\n",
    "import os\n",
    "from IPython import get_ipython\n",
    "import ctypes\n",
    "import ray\n",
    "from gtf_to_sql import run_gtf_to_sql"
   ]
  },
  {
   "cell_type": "code",
   "execution_count": 2,
   "metadata": {},
   "outputs": [
    {
     "name": "stderr",
     "output_type": "stream",
     "text": [
      "2025-04-15 22:29:02,591\tINFO worker.py:1852 -- Started a local Ray instance.\n"
     ]
    },
    {
     "data": {
      "application/vnd.jupyter.widget-view+json": {
       "model_id": "877d57e0f87f47459fbca90b512ed0f8",
       "version_major": 2,
       "version_minor": 0
      },
      "text/html": [
       "<div class=\"lm-Widget p-Widget lm-Panel p-Panel jp-Cell-outputWrapper\">\n",
       "    <div style=\"margin-left: 50px;display: flex;flex-direction: row;align-items: center\">\n",
       "        <div class=\"jp-RenderedHTMLCommon\" style=\"display: flex; flex-direction: row;\">\n",
       "  <svg viewBox=\"0 0 567 224\" fill=\"none\" xmlns=\"http://www.w3.org/2000/svg\" style=\"height: 3em;\">\n",
       "    <g clip-path=\"url(#clip0_4338_178347)\">\n",
       "        <path d=\"M341.29 165.561H355.29L330.13 129.051C345.63 123.991 354.21 112.051 354.21 94.2307C354.21 71.3707 338.72 58.1807 311.88 58.1807H271V165.561H283.27V131.661H311.8C314.25 131.661 316.71 131.501 319.01 131.351L341.25 165.561H341.29ZM283.29 119.851V70.0007H311.82C331.3 70.0007 342.34 78.2907 342.34 94.5507C342.34 111.271 331.34 119.861 311.82 119.861L283.29 119.851ZM451.4 138.411L463.4 165.561H476.74L428.74 58.1807H416L367.83 165.561H380.83L392.83 138.411H451.4ZM446.19 126.601H398L422 72.1407L446.24 126.601H446.19ZM526.11 128.741L566.91 58.1807H554.35L519.99 114.181L485.17 58.1807H472.44L514.01 129.181V165.541H526.13V128.741H526.11Z\" fill=\"var(--jp-ui-font-color0)\"/>\n",
       "        <path d=\"M82.35 104.44C84.0187 97.8827 87.8248 92.0678 93.1671 87.9146C98.5094 83.7614 105.083 81.5067 111.85 81.5067C118.617 81.5067 125.191 83.7614 130.533 87.9146C135.875 92.0678 139.681 97.8827 141.35 104.44H163.75C164.476 101.562 165.622 98.8057 167.15 96.2605L127.45 56.5605C121.071 60.3522 113.526 61.6823 106.235 60.3005C98.9443 58.9187 92.4094 54.9203 87.8602 49.0574C83.3109 43.1946 81.0609 35.8714 81.5332 28.4656C82.0056 21.0599 85.1679 14.0819 90.4252 8.8446C95.6824 3.60726 102.672 0.471508 110.08 0.0272655C117.487 -0.416977 124.802 1.86091 130.647 6.4324C136.493 11.0039 140.467 17.5539 141.821 24.8501C143.175 32.1463 141.816 39.6859 138 46.0505L177.69 85.7505C182.31 82.9877 187.58 81.4995 192.962 81.4375C198.345 81.3755 203.648 82.742 208.33 85.3976C213.012 88.0532 216.907 91.9029 219.616 96.5544C222.326 101.206 223.753 106.492 223.753 111.875C223.753 117.258 222.326 122.545 219.616 127.197C216.907 131.848 213.012 135.698 208.33 138.353C203.648 141.009 198.345 142.375 192.962 142.313C187.58 142.251 182.31 140.763 177.69 138L138 177.7C141.808 184.071 143.155 191.614 141.79 198.91C140.424 206.205 136.44 212.75 130.585 217.313C124.731 221.875 117.412 224.141 110.004 223.683C102.596 223.226 95.6103 220.077 90.3621 214.828C85.1139 209.58 81.9647 202.595 81.5072 195.187C81.0497 187.779 83.3154 180.459 87.878 174.605C92.4405 168.751 98.9853 164.766 106.281 163.401C113.576 162.035 121.119 163.383 127.49 167.19L167.19 127.49C165.664 124.941 164.518 122.182 163.79 119.3H141.39C139.721 125.858 135.915 131.673 130.573 135.826C125.231 139.98 118.657 142.234 111.89 142.234C105.123 142.234 98.5494 139.98 93.2071 135.826C87.8648 131.673 84.0587 125.858 82.39 119.3H60C58.1878 126.495 53.8086 132.78 47.6863 136.971C41.5641 141.163 34.1211 142.972 26.7579 142.059C19.3947 141.146 12.6191 137.574 7.70605 132.014C2.79302 126.454 0.0813599 119.29 0.0813599 111.87C0.0813599 104.451 2.79302 97.2871 7.70605 91.7272C12.6191 86.1673 19.3947 82.5947 26.7579 81.6817C34.1211 80.7686 41.5641 82.5781 47.6863 86.7696C53.8086 90.9611 58.1878 97.2456 60 104.44H82.35ZM100.86 204.32C103.407 206.868 106.759 208.453 110.345 208.806C113.93 209.159 117.527 208.258 120.522 206.256C123.517 204.254 125.725 201.276 126.771 197.828C127.816 194.38 127.633 190.677 126.253 187.349C124.874 184.021 122.383 181.274 119.205 179.577C116.027 177.88 112.359 177.337 108.826 178.042C105.293 178.746 102.113 180.654 99.8291 183.44C97.5451 186.226 96.2979 189.718 96.3 193.32C96.2985 195.364 96.7006 197.388 97.4831 199.275C98.2656 201.163 99.4132 202.877 100.86 204.32ZM204.32 122.88C206.868 120.333 208.453 116.981 208.806 113.396C209.159 109.811 208.258 106.214 206.256 103.219C204.254 100.223 201.275 98.0151 197.827 96.97C194.38 95.9249 190.676 96.1077 187.348 97.4873C184.02 98.8669 181.274 101.358 179.577 104.536C177.879 107.714 177.337 111.382 178.041 114.915C178.746 118.448 180.653 121.627 183.439 123.911C186.226 126.195 189.717 127.443 193.32 127.44C195.364 127.443 197.388 127.042 199.275 126.259C201.163 125.476 202.878 124.328 204.32 122.88ZM122.88 19.4205C120.333 16.8729 116.981 15.2876 113.395 14.9347C109.81 14.5817 106.213 15.483 103.218 17.4849C100.223 19.4868 98.0146 22.4654 96.9696 25.9131C95.9245 29.3608 96.1073 33.0642 97.4869 36.3922C98.8665 39.7202 101.358 42.4668 104.535 44.1639C107.713 45.861 111.381 46.4036 114.914 45.6992C118.447 44.9949 121.627 43.0871 123.911 40.301C126.195 37.515 127.442 34.0231 127.44 30.4205C127.44 28.3772 127.038 26.3539 126.255 24.4664C125.473 22.5788 124.326 20.8642 122.88 19.4205ZM19.42 100.86C16.8725 103.408 15.2872 106.76 14.9342 110.345C14.5813 113.93 15.4826 117.527 17.4844 120.522C19.4863 123.518 22.4649 125.726 25.9127 126.771C29.3604 127.816 33.0638 127.633 36.3918 126.254C39.7198 124.874 42.4664 122.383 44.1635 119.205C45.8606 116.027 46.4032 112.359 45.6988 108.826C44.9944 105.293 43.0866 102.114 40.3006 99.8296C37.5145 97.5455 34.0227 96.2983 30.42 96.3005C26.2938 96.3018 22.337 97.9421 19.42 100.86ZM100.86 100.86C98.3125 103.408 96.7272 106.76 96.3742 110.345C96.0213 113.93 96.9226 117.527 98.9244 120.522C100.926 123.518 103.905 125.726 107.353 126.771C110.8 127.816 114.504 127.633 117.832 126.254C121.16 124.874 123.906 122.383 125.604 119.205C127.301 116.027 127.843 112.359 127.139 108.826C126.434 105.293 124.527 102.114 121.741 99.8296C118.955 97.5455 115.463 96.2983 111.86 96.3005C109.817 96.299 107.793 96.701 105.905 97.4835C104.018 98.2661 102.303 99.4136 100.86 100.86Z\" fill=\"#00AEEF\"/>\n",
       "    </g>\n",
       "    <defs>\n",
       "        <clipPath id=\"clip0_4338_178347\">\n",
       "            <rect width=\"566.93\" height=\"223.75\" fill=\"white\"/>\n",
       "        </clipPath>\n",
       "    </defs>\n",
       "  </svg>\n",
       "</div>\n",
       "\n",
       "        <table class=\"jp-RenderedHTMLCommon\" style=\"border-collapse: collapse;color: var(--jp-ui-font-color1);font-size: var(--jp-ui-font-size1);\">\n",
       "    <tr>\n",
       "        <td style=\"text-align: left\"><b>Python version:</b></td>\n",
       "        <td style=\"text-align: left\"><b>3.10.12</b></td>\n",
       "    </tr>\n",
       "    <tr>\n",
       "        <td style=\"text-align: left\"><b>Ray version:</b></td>\n",
       "        <td style=\"text-align: left\"><b>2.44.1</b></td>\n",
       "    </tr>\n",
       "    \n",
       "</table>\n",
       "\n",
       "    </div>\n",
       "</div>\n"
      ],
      "text/plain": [
       "RayContext(dashboard_url='', python_version='3.10.12', ray_version='2.44.1', ray_commit='daca7b2b1a950dc7f731e34e74c76ae383794ffe')"
      ]
     },
     "execution_count": 2,
     "metadata": {},
     "output_type": "execute_result"
    }
   ],
   "source": [
    "ray.init()"
   ]
  },
  {
   "cell_type": "code",
   "execution_count": null,
   "metadata": {},
   "outputs": [],
   "source": [
    "# sql_table_name = \"human\"\n",
    "sql_table_name = \"mouse\"\n",
    "# data_dir = \".\"\n",
    "data_dir = \"/data1/dhananjayraman\"\n",
    "# gtf_file_name = f\"{data_dir}/Homo_sapiens.GRCh38.112.chr.gtf\"\n",
    "gtf_file_name = f\"{data_dir}/gencode.vM36.annotation.gtf\"\n",
    "sql_db_name = f\"{data_dir}/db-{sql_table_name}.sqlite3\"\n",
    "# sql_db_name = f\"file:{sql_table_name}gtf?mode=memory&cache=shared\"\n",
    "if data_dir == \"/data1/dhananjayraman\":\n",
    "    results_file_name = f\"results/{sql_table_name}_cluster.txt\"\n",
    "else:\n",
    "    results_file_name = f\"results/{sql_table_name}_pc.txt\"\n",
    "# os.system(\"g++ -std=c++11 -shared -fPIC -o gtf_to_sql.so gtf_to_sql.cpp -lsqlite3 -pthread\")\n",
    "# os.system(\"g++ -std=c++11 -shared -fPIC -o gtf_to_sql.so gtf_to_sql.cpp -lduckdb -pthread -lstdc++\")\n",
    "# lib = ctypes.CDLL(\"./gtf_to_sql.so\")\n",
    "# Define the function signature\n",
    "# lib.run_gtf_to_sql.argtypes = [\n",
    "#     ctypes.c_char_p,  # db_name\n",
    "#     ctypes.c_char_p,  # table_name\n",
    "#     ctypes.c_char_p,  # input_file\n",
    "#     ctypes.c_int,     # num_threads\n",
    "# ]\n",
    "OUTPUT_MODE = \"print\"\n",
    "# OUTPUT_MODE = \"file\""
   ]
  },
  {
   "cell_type": "code",
   "execution_count": 4,
   "metadata": {},
   "outputs": [],
   "source": [
    "# This should be a module-level global so each Ray worker gets its own connection\n",
    "def get_connection():\n",
    "    return sqlite3.connect(sql_db_name)"
   ]
  },
  {
   "cell_type": "code",
   "execution_count": 5,
   "metadata": {},
   "outputs": [],
   "source": [
    "if OUTPUT_MODE == \"file\":\n",
    "    results_file = open(results_file_name,\"w\")"
   ]
  },
  {
   "cell_type": "code",
   "execution_count": 6,
   "metadata": {},
   "outputs": [
    {
     "name": "stdout",
     "output_type": "stream",
     "text": [
      "Finished reading into pyranges object in time 44.47409415245056\n"
     ]
    }
   ],
   "source": [
    "start_time = time.time()\n",
    "gr = pr.read_gtf(gtf_file_name)\n",
    "end_time = time.time()\n",
    "if OUTPUT_MODE == \"file\":\n",
    "    results_file.write(f\"Finished reading into pyranges object in time {end_time-start_time}\\n\")\n",
    "else:\n",
    "    print(f\"Finished reading into pyranges object in time {end_time-start_time}\")"
   ]
  },
  {
   "cell_type": "code",
   "execution_count": 7,
   "metadata": {},
   "outputs": [
    {
     "name": "stdout",
     "output_type": "stream",
     "text": [
      "Submitted 226943 lines to ray in 238ms\n",
      "Processed 226943 lines in 434ms\n",
      "Flattened SQL statements in 64ms\n",
      "Submitted 228849 lines to ray in 366ms\n",
      "Processed 228849 lines in 361ms\n",
      "Flattened SQL statements in 60ms\n",
      "Submitted 228256 lines to ray in 219ms\n",
      "Processed 228256 lines in 483ms\n",
      "Flattened SQL statements in 61ms\n",
      "Submitted 225531 lines to ray in 223ms\n",
      "Processed 225531 lines in 453ms\n",
      "Flattened SQL statements in 60ms\n",
      "Submitted 222060 lines to ray in 198ms\n",
      "Processed 222060 lines in 492ms\n",
      "Flattened SQL statements in 61ms\n",
      "Submitted 225795 lines to ray in 213ms\n",
      "Processed 225795 lines in 450ms\n",
      "Flattened SQL statements in 57ms\n",
      "Submitted 225483 lines to ray in 248ms\n",
      "Processed 225483 lines in 465ms\n",
      "Flattened SQL statements in 61ms\n",
      "Submitted 232326 lines to ray in 231ms\n",
      "Processed 232326 lines in 415ms\n",
      "Flattened SQL statements in 63ms\n",
      "Submitted 233803 lines to ray in 271ms\n",
      "Pushed a batch to SQLite in 6622ms\n",
      "Processed 233803 lines in 430ms\n",
      "Flattened SQL statements in 47ms\n",
      "Submitted 229851 lines to ray in 134ms\n",
      "Processed 229851 lines in 485ms\n",
      "Flattened SQL statements in 43ms\n",
      "Submitted 199206 lines to ray in 124ms\n",
      "Processed 199206 lines in 427ms\n",
      "Flattened SQL statements in 43ms\n",
      "Reader thread finished reading file\n",
      "Pushed a batch to SQLite in 3118ms\n",
      "Pushed a batch to SQLite in 2055ms\n",
      "Pushed a batch to SQLite in 2015ms\n",
      "Pushed a batch to SQLite in 2033ms\n",
      "Pushed a batch to SQLite in 2009ms\n",
      "Pushed a batch to SQLite in 2010ms\n",
      "Pushed a batch to SQLite in 2075ms\n",
      "Pushed a batch to SQLite in 2119ms\n",
      "Pushed a batch to SQLite in 2214ms\n",
      "Pushed a batch to SQLite in 1771ms\n",
      "Time taken to create indices: 1736ms\n",
      "Finished writing into sql db in time 33.13950705528259\n"
     ]
    }
   ],
   "source": [
    "# Call the function\n",
    "start_time = time.time()\n",
    "# lib.run_gtf_to_sql(sql_db_name.encode(\"utf-8\"), sql_table_name.encode(\"utf-8\"), gtf_file_name.encode(\"utf-8\"), 8)\n",
    "run_gtf_to_sql(sql_db_name, sql_table_name, gtf_file_name)\n",
    "end_time = time.time()\n",
    "if OUTPUT_MODE == \"file\":\n",
    "    results_file.write(f\"Finished writing into sql db in time {end_time-start_time}\\n\")\n",
    "else:\n",
    "    print(f\"Finished writing into sql db in time {end_time-start_time}\")"
   ]
  },
  {
   "cell_type": "code",
   "execution_count": 8,
   "metadata": {},
   "outputs": [],
   "source": [
    "conn = sqlite3.connect(sql_db_name)\n",
    "cur = conn.cursor()"
   ]
  },
  {
   "cell_type": "code",
   "execution_count": null,
   "metadata": {},
   "outputs": [],
   "source": [
    "start_time = time.time()\n",
    "gr2 = pr.PyRanges(pd.read_sql(f\"SELECT * FROM {sql_table_name}\", conn))\n",
    "end_time = time.time()\n",
    "if OUTPUT_MODE == \"file\":\n",
    "    results_file.write(f\"Finished reading from sql to pyranges in time {end_time-start_time}\\n\")\n",
    "else:\n",
    "    print(f\"Finished reading from sql to pyranges in time {end_time-start_time}\")"
   ]
  },
  {
   "cell_type": "code",
   "execution_count": 9,
   "metadata": {},
   "outputs": [],
   "source": [
    "chrom_strand_tup = pd.read_sql_query(f\"SELECT DISTINCT Chromosome, Strand FROM {sql_table_name}\", conn)\n",
    "chrom_strand_tup = list(zip(chrom_strand_tup[\"Chromosome\"], chrom_strand_tup[\"Strand\"]))"
   ]
  },
  {
   "cell_type": "markdown",
   "metadata": {},
   "source": [
    "# Aggregate Queries: Counting transcripts, calculating exon lengths, and grouping features\n",
    "### Aggregate Query 1: Count the number of exons for each gene"
   ]
  },
  {
   "cell_type": "code",
   "execution_count": null,
   "metadata": {},
   "outputs": [],
   "source": [
    "# Using pyranges\n",
    "time = get_ipython().run_line_magic(\"timeit\",'-o (gr[gr.Feature == \"exon\"].df.groupby(\"gene_id\").size().reset_index(name=\"exon_count\"))')\n",
    "if OUTPUT_MODE == \"file\":\n",
    "    results_file.write(f\"Time taken to count exons using pyranges is {time}\\n\")\n",
    "else:\n",
    "    print(f\"Time taken to count exons using pyranges is {time}\")"
   ]
  },
  {
   "cell_type": "code",
   "execution_count": null,
   "metadata": {},
   "outputs": [],
   "source": [
    "# Using sql\n",
    "time = get_ipython().run_line_magic(\"timeit\",f'-o exon_counts_sql = pd.read_sql_query(\"SELECT gene_id, COUNT(*) as exon_count FROM {sql_table_name} WHERE Feature = \\'exon\\' GROUP BY gene_id\", conn)')\n",
    "if OUTPUT_MODE == \"file\":\n",
    "    results_file.write(f\"Time taken to count exons using sql is {time}\\n\")\n",
    "else:\n",
    "    print(f\"Time taken to count exons using sql is {time}\")"
   ]
  },
  {
   "cell_type": "code",
   "execution_count": 10,
   "metadata": {},
   "outputs": [
    {
     "name": "stdout",
     "output_type": "stream",
     "text": [
      "exon counts are identical\n"
     ]
    }
   ],
   "source": [
    "# check if exon_counts_pr and exon_counts_sql are identical\n",
    "exon_counts_pr = (gr[gr.Feature == \"exon\"].df.groupby(\"gene_id\").size().reset_index(name=\"exon_count\"))\n",
    "exon_counts_sql = pd.read_sql_query(f\"SELECT gene_id, COUNT(*) as exon_count FROM {sql_table_name} WHERE Feature = 'exon' GROUP BY gene_id\", conn)\n",
    "exon_counts_sql[\"exon_count\"] = exon_counts_sql[\"exon_count\"].astype(int)\n",
    "exon_counts_pr[\"exon_count\"] = exon_counts_pr[\"exon_count\"].astype(int)\n",
    "if exon_counts_sql.equals(exon_counts_pr):\n",
    "    result_text = \"exon counts are identical\"\n",
    "else:\n",
    "    result_text = \"exon counts are not identical\"\n",
    "if OUTPUT_MODE == \"file\":\n",
    "    results_file.write(f\"{result_text}\\n\")\n",
    "else:\n",
    "    print(result_text)"
   ]
  },
  {
   "cell_type": "markdown",
   "metadata": {},
   "source": [
    "### Aggregate Query 2: Calculate the total length of exons for each gene"
   ]
  },
  {
   "cell_type": "code",
   "execution_count": null,
   "metadata": {},
   "outputs": [],
   "source": [
    "# Using pyranges\n",
    "time = get_ipython().run_line_magic(\"timeit\",'-o exon_lengths_pr = (gr[gr.Feature == \"exon\"].df.assign(length=lambda df: df[\"End\"] - df[\"Start\"]).groupby(\"gene_id\")[\"length\"].sum().reset_index(name=\"total_exon_length\"))')\n",
    "if OUTPUT_MODE == \"file\":\n",
    "    results_file.write(f\"Time taken to calculate total exon length using pyranges is {time}\\n\")\n",
    "else:\n",
    "    print(f\"Time taken to calculate total exon length using pyranges is {time}\")"
   ]
  },
  {
   "cell_type": "code",
   "execution_count": null,
   "metadata": {},
   "outputs": [],
   "source": [
    "# using sql\n",
    "time = get_ipython().run_line_magic(\"timeit\",f'-o exon_lengths_sql = pd.read_sql_query(\"SELECT gene_id, SUM(End - Start) as total_exon_length FROM {sql_table_name} WHERE Feature = \\'exon\\' GROUP BY gene_id\", conn)')\n",
    "if OUTPUT_MODE == \"file\":\n",
    "    results_file.write(f\"Time taken to calculate total exon length using sql is {time}\\n\")\n",
    "else:\n",
    "    print(f\"Time taken to calculate total exon length using sql is {time}\")"
   ]
  },
  {
   "cell_type": "code",
   "execution_count": 11,
   "metadata": {},
   "outputs": [
    {
     "name": "stdout",
     "output_type": "stream",
     "text": [
      "exon lengths are identical\n"
     ]
    }
   ],
   "source": [
    "# check if exon_lengths_pr and exon_lengths_sql are identical\n",
    "exon_lengths_pr = (gr[gr.Feature == \"exon\"].df.assign(length=lambda df: df[\"End\"] - df[\"Start\"]).groupby(\"gene_id\")[\"length\"].sum().reset_index(name=\"total_exon_length\"))\n",
    "exon_lengths_sql = pd.read_sql_query(f\"SELECT gene_id, SUM(End - Start) as total_exon_length FROM {sql_table_name} WHERE Feature = 'exon' GROUP BY gene_id\", conn)\n",
    "exon_lengths_sql[\"total_exon_length\"] = exon_lengths_sql[\"total_exon_length\"].astype(int)\n",
    "exon_lengths_pr[\"total_exon_length\"] = exon_lengths_pr[\"total_exon_length\"].astype(int)\n",
    "if exon_lengths_sql.equals(exon_lengths_pr):\n",
    "    results_text = \"exon lengths are identical\"\n",
    "else:\n",
    "    results_text = \"exon lengths are not identical\"\n",
    "if OUTPUT_MODE == \"file\":\n",
    "    results_file.write(f\"{results_text}\\n\")\n",
    "else:\n",
    "    print(results_text)"
   ]
  },
  {
   "cell_type": "markdown",
   "metadata": {},
   "source": [
    "### Aggregate Query 3: Identify the chromosome with the highest number of transcripts"
   ]
  },
  {
   "cell_type": "code",
   "execution_count": null,
   "metadata": {},
   "outputs": [],
   "source": [
    "# Using pyranges\n",
    "time = get_ipython().run_line_magic(\"timeit\",'-o transcript_counts_pr = gr[gr.Feature == \"transcript\"].df[\"Chromosome\"].value_counts().idxmax()')\n",
    "if OUTPUT_MODE == \"file\":\n",
    "    results_file.write(f\"Time taken to find chromosome with most transcripts using pyranges is {time}\\n\")\n",
    "else:\n",
    "    print(f\"Time taken to find chromosome with most transcripts using pyranges is {time}\")"
   ]
  },
  {
   "cell_type": "code",
   "execution_count": null,
   "metadata": {},
   "outputs": [],
   "source": [
    "# using sql\n",
    "time = get_ipython().run_line_magic(\"timeit\",f'-o transcript_counts_sql = pd.read_sql_query(\"SELECT Chromosome, COUNT(*) as transcript_count FROM {sql_table_name} WHERE Feature = \\'transcript\\' GROUP BY Chromosome ORDER BY transcript_count DESC LIMIT 1\", conn)')\n",
    "if OUTPUT_MODE == \"file\":\n",
    "    results_file.write(f\"Time taken to find chromosome with most transcripts using sql is {time}\\n\")\n",
    "else:\n",
    "    print(f\"Time taken to find chromosome with most transcripts using sql is {time}\")"
   ]
  },
  {
   "cell_type": "code",
   "execution_count": 12,
   "metadata": {},
   "outputs": [
    {
     "name": "stdout",
     "output_type": "stream",
     "text": [
      "transcript counts are identical\n"
     ]
    }
   ],
   "source": [
    "# verify if transcript_counts_pr and transcript_counts_sql are identical\n",
    "transcript_counts_pr = gr[gr.Feature == \"transcript\"].df[\"Chromosome\"].value_counts().idxmax()\n",
    "transcript_counts_sql = pd.read_sql_query(f\"SELECT Chromosome, COUNT(*) as transcript_count FROM {sql_table_name} WHERE Feature = 'transcript' GROUP BY Chromosome ORDER BY transcript_count DESC LIMIT 1\", conn)\n",
    "if transcript_counts_pr == transcript_counts_sql[\"Chromosome\"].values[0]:\n",
    "    results_text = \"transcript counts are identical\"\n",
    "else:\n",
    "    results_text = \"transcript counts are not identical\"\n",
    "if OUTPUT_MODE == \"file\":\n",
    "    results_file.write(f\"{results_text}\\n\")\n",
    "else:\n",
    "    print(results_text)"
   ]
  },
  {
   "cell_type": "markdown",
   "metadata": {},
   "source": [
    "# Interval Arithmetic\n",
    "### Query 1: Merging Overlapping Exon Intervals"
   ]
  },
  {
   "cell_type": "code",
   "execution_count": null,
   "metadata": {},
   "outputs": [],
   "source": [
    "# Using pyranges\n",
    "time = get_ipython().run_line_magic(\"timeit\",'-o exon_intervals_pr = gr[gr.Feature == \"exon\"].merge(strand=True)')\n",
    "if OUTPUT_MODE == \"file\":\n",
    "    results_file.write(f\"Time taken to merge exons using pyranges is {time}\\n\")\n",
    "else:\n",
    "    print(f\"Time taken to merge exons using pyranges is {time}\")"
   ]
  },
  {
   "cell_type": "code",
   "execution_count": 14,
   "metadata": {},
   "outputs": [],
   "source": [
    "# using sql\n",
    "@ray.remote\n",
    "def get_exon_intervals_sql(chrom_strand):\n",
    "    chrom, strand = chrom_strand\n",
    "    conn = get_connection()\n",
    "    exon_intervals_sql = pd.read_sql_query(f\"SELECT Start, End FROM {sql_table_name} WHERE Feature = 'exon' AND Chromosome = '{chrom}' AND Strand = '{strand}'\", conn)\n",
    "    conn.close()\n",
    "    exon_intervals_sql = pr.methods.merge._merge(exon_intervals_sql, chromosome=chrom, count=None, strand=strand)\n",
    "    return exon_intervals_sql\n",
    "\n",
    "def get_exon_intervals_sql_multi():\n",
    "    futures = [get_exon_intervals_sql.remote(chrom_strand) for chrom_strand in chrom_strand_tup]\n",
    "    exon_intervals_sql = ray.get(futures)\n",
    "    exon_intervals_sql = pd.concat(exon_intervals_sql).sort_values([\"Chromosome\", \"Strand\", \"Start\", \"End\"]).reset_index(drop=True)\n",
    "    return exon_intervals_sql"
   ]
  },
  {
   "cell_type": "code",
   "execution_count": null,
   "metadata": {},
   "outputs": [],
   "source": [
    "time = get_ipython().run_line_magic(\"timeit\",'-o exon_intervals_sql = get_exon_intervals_sql_multi()')\n",
    "if OUTPUT_MODE == \"file\":\n",
    "    results_file.write(f\"Time taken to merge exons using sql is {time}\\n\")\n",
    "else:\n",
    "    print(f\"Time taken to merge exons using sql is {time}\")"
   ]
  },
  {
   "cell_type": "code",
   "execution_count": 15,
   "metadata": {},
   "outputs": [
    {
     "name": "stdout",
     "output_type": "stream",
     "text": [
      "exon intervals are identical\n"
     ]
    }
   ],
   "source": [
    "# check if exon_intervals_pr and exon_intervals_sql are identical\n",
    "exon_intervals_pr = gr[gr.Feature == \"exon\"].merge(strand=True).df.sort_values([\"Chromosome\", \"Strand\", \"Start\", \"End\"]).reset_index(drop=True)\n",
    "exon_intervals_sql = get_exon_intervals_sql_multi()\n",
    "if exon_intervals_pr.equals(exon_intervals_sql):\n",
    "    results_text = \"exon intervals are identical\"\n",
    "else:\n",
    "    results_text = \"exon intervals are not identical\"\n",
    "if OUTPUT_MODE == \"file\":\n",
    "    results_file.write(f\"{results_text}\\n\")\n",
    "else:\n",
    "    print(results_text)"
   ]
  },
  {
   "cell_type": "markdown",
   "metadata": {},
   "source": [
    "### Query 2: Finding Overlaps with a Specific Interval\n",
    "Find all gene features that overlap a given interval chr1:1000000-2000000 + strand"
   ]
  },
  {
   "cell_type": "code",
   "execution_count": 32,
   "metadata": {},
   "outputs": [],
   "source": [
    "if sql_table_name == \"human\":\n",
    "    other_genes_dict = {\"Chromosome\": [\"1\"], \"Start\": [1000000], \"End\": [2000000], \"Strand\": [\"+\"]}\n",
    "elif sql_table_name == \"mouse\":\n",
    "    other_genes_dict = {\"Chromosome\": [\"chr1\"], \"Start\": [3000000], \"End\": [4000000], \"Strand\": [\"+\"]}"
   ]
  },
  {
   "cell_type": "code",
   "execution_count": null,
   "metadata": {},
   "outputs": [],
   "source": [
    "# Using pyranges\n",
    "time = get_ipython().run_line_magic(\"timeit\",'-o overlapping_genes_pr = gr[gr.Feature == \"gene\"].overlap(pr.from_dict(other_genes_dict), strandedness=\"same\")')\n",
    "if OUTPUT_MODE == \"file\":\n",
    "    results_file.write(f\"Time taken to find overlapping genes using pyranges is {time}\\n\")\n",
    "else:\n",
    "    print(f\"Time taken to find overlapping genes using pyranges is {time}\")"
   ]
  },
  {
   "cell_type": "code",
   "execution_count": 33,
   "metadata": {},
   "outputs": [],
   "source": [
    "other_genes_all = pd.DataFrame(other_genes_dict)\n",
    "\n",
    "@ray.remote\n",
    "def get_overlapping_genes_sql(chrom_strand):\n",
    "    chrom, strand = chrom_strand\n",
    "    conn = get_connection()\n",
    "    self_genes_sql = pd.read_sql_query(f\"SELECT * FROM {sql_table_name} WHERE Feature = 'gene' AND Chromosome = '{chrom}' AND Strand = '{strand}'\", conn)\n",
    "    conn.close()\n",
    "\n",
    "    other_genes = other_genes_all[\n",
    "        (other_genes_all[\"Chromosome\"] == chrom) & (other_genes_all[\"Strand\"] == strand)\n",
    "    ]\n",
    "    overlapping_genes_sql = pr.methods.intersection._overlap(self_genes_sql, other_genes, how=\"first\")\n",
    "    return overlapping_genes_sql\n",
    "\n",
    "def get_overlapping_genes_sql_multi():\n",
    "    futures = [get_overlapping_genes_sql.remote(chrom_strand) for chrom_strand in chrom_strand_tup]\n",
    "    overlapping_genes_sql_list = ray.get(futures)\n",
    "    return pd.concat(overlapping_genes_sql_list)"
   ]
  },
  {
   "cell_type": "code",
   "execution_count": null,
   "metadata": {},
   "outputs": [],
   "source": [
    "time = get_ipython().run_line_magic(\"timeit\",'-o overlapping_genes_sql = get_overlapping_genes_sql_multi()')\n",
    "if OUTPUT_MODE == \"file\":\n",
    "    results_file.write(f\"Time taken to find overlapping genes using sql is {time}\\n\")\n",
    "else:\n",
    "    print(f\"Time taken to find overlapping genes using sql is {time}\")"
   ]
  },
  {
   "cell_type": "code",
   "execution_count": 34,
   "metadata": {},
   "outputs": [
    {
     "name": "stdout",
     "output_type": "stream",
     "text": [
      "overlapping genes are identical\n"
     ]
    }
   ],
   "source": [
    "# check if overlapping_genes_pr and overlapping_genes_sql are identical\n",
    "overlapping_genes_pr = gr[gr.Feature == \"gene\"].overlap(pr.from_dict(other_genes_dict), strandedness=\"same\")\n",
    "overlapping_genes_sql = get_overlapping_genes_sql_multi()\n",
    "overlapping_genes_sql = overlapping_genes_sql.sort_values([\"Chromosome\", \"Strand\", \"Start\", \"End\"]).reset_index(drop=True)\n",
    "overlapping_genes_pr = overlapping_genes_pr.df.sort_values([\"Chromosome\", \"Strand\", \"Start\", \"End\"]).reset_index(drop=True)\n",
    "diff = overlapping_genes_pr.compare(overlapping_genes_sql)\n",
    "if diff.empty:\n",
    "    results_text = \"overlapping genes are identical\"\n",
    "else:\n",
    "    results_text = \"overlapping genes are not identical\"\n",
    "if OUTPUT_MODE == \"file\":\n",
    "    results_file.write(f\"{results_text}\\n\")\n",
    "else:\n",
    "    print(results_text)"
   ]
  },
  {
   "cell_type": "markdown",
   "metadata": {},
   "source": [
    "### Query 3: Subtracting Intervals\n",
    "Remove a set of repetitive regions from the exon features.\n",
    "\n",
    "chr1:15M-16M,20M-21M"
   ]
  },
  {
   "cell_type": "code",
   "execution_count": 35,
   "metadata": {},
   "outputs": [],
   "source": [
    "if sql_table_name == \"human\":\n",
    "    other_cdf = pr.from_dict({\"Chromosome\": [\"1\", \"1\"],\"Start\": [15000000, 20000000],\"End\": [16000000, 21000000], \"Strand\": [\"+\", \"-\"]})\n",
    "elif sql_table_name == \"mouse\":\n",
    "    other_cdf = pr.from_dict({\"Chromosome\": [\"chr1\", \"chr1\"],\"Start\": [15000000, 20000000],\"End\": [16000000, 21000000], \"Strand\": [\"+\", \"-\"]})"
   ]
  },
  {
   "cell_type": "code",
   "execution_count": null,
   "metadata": {},
   "outputs": [],
   "source": [
    "# using pyranges\n",
    "time = get_ipython().run_line_magic(\"timeit\",'-o subtracted_intervals_pr = gr[gr.Feature == \"exon\"].subtract(other_cdf, strandedness=\"same\")')\n",
    "if OUTPUT_MODE == \"file\":\n",
    "    results_file.write(f\"Time taken to subtract intervals using pyranges is {time}\\n\")\n",
    "else:\n",
    "    print(f\"Time taken to subtract intervals using pyranges is {time}\")"
   ]
  },
  {
   "cell_type": "code",
   "execution_count": 37,
   "metadata": {},
   "outputs": [],
   "source": [
    "# using sql\n",
    "@ray.remote\n",
    "def get_subtracted_intervals_sql(chrom_strand):\n",
    "    chrom, strand = chrom_strand\n",
    "    conn = get_connection()\n",
    "    self_genes_sql = pd.read_sql_query(f\"SELECT * FROM {sql_table_name} WHERE Feature = 'exon' AND Chromosome = '{chrom}' AND Strand = '{strand}'\", conn)\n",
    "    conn.close()\n",
    "    other_cdf_clusters = other_cdf.merge(strand=True)\n",
    "    other_chrom_clusters = other_cdf_clusters[(other_cdf_clusters.Chromosome == chrom) & (other_cdf_clusters.Strand == strand)].df\n",
    "    # add __num__ column to self_genes_sql which counts how many intervals in self_genes_sql overlap with other_genes\n",
    "    self_genes_sql = pr.methods.coverage._number_overlapping(self_genes_sql, other_chrom_clusters, strandedness=\"same\", keep_nonoverlapping=True, overlap_col=\"__num__\")\n",
    "    subtracted_intervals_sql = pr.methods.subtraction._subtraction(self_genes_sql, other_chrom_clusters, strandedness=\"same\")\n",
    "    return subtracted_intervals_sql.drop(columns=[\"__num__\"])\n",
    "\n",
    "def get_subtracted_intervals_sql_multi():\n",
    "    futures = [get_subtracted_intervals_sql.remote(chrom_strand) for chrom_strand in chrom_strand_tup]\n",
    "    subtracted_intervals_sql = ray.get(futures)\n",
    "    subtracted_intervals_sql = pd.concat(subtracted_intervals_sql) #.sort_values([\"Chromosome\", \"Strand\", \"Start\", \"End\"]).reset_index(drop=True)\n",
    "    return subtracted_intervals_sql"
   ]
  },
  {
   "cell_type": "code",
   "execution_count": null,
   "metadata": {},
   "outputs": [],
   "source": [
    "time = get_ipython().run_line_magic(\"timeit\",'-o subtracted_intervals_sql = get_subtracted_intervals_sql_multi()')\n",
    "if OUTPUT_MODE == \"file\":\n",
    "    results_file.write(f\"Time taken to subtract intervals using sql is {time}\\n\")\n",
    "else:\n",
    "    print(f\"Time taken to subtract intervals using sql is {time}\")"
   ]
  },
  {
   "cell_type": "code",
   "execution_count": null,
   "metadata": {},
   "outputs": [
    {
     "name": "stdout",
     "output_type": "stream",
     "text": [
      "subtracted intervals are identical\n"
     ]
    }
   ],
   "source": [
    "# check if subtracted_intervals_pr and subtracted_intervals_sql are identical\n",
    "subtracted_intervals_pr = gr[gr.Feature == \"exon\"].subtract(other_cdf, strandedness=\"same\")\n",
    "subtracted_intervals_sql = get_subtracted_intervals_sql_multi()\n",
    "subtracted_intervals_sql.to_csv(f\"{data_dir}/subtracted_intervals_sql.csv\", index=False)\n",
    "subtracted_intervals_pr.df.to_csv(f\"{data_dir}/subtracted_intervals_pr.csv\", index=False)\n",
    "os.system(f\"cat {data_dir}/subtracted_intervals_sql.csv | sort > {data_dir}/subtracted_intervals_sql_sorted.csv\")\n",
    "os.system(f\"cat {data_dir}/subtracted_intervals_pr.csv | sort > {data_dir}/subtracted_intervals_pr_sorted.csv\")\n",
    "diff = os.popen(f\"diff {data_dir}/subtracted_intervals_sql_sorted.csv {data_dir}/subtracted_intervals_pr_sorted.csv\").read()\n",
    "if diff == \"\":\n",
    "    results_text = \"subtracted intervals are identical\"\n",
    "else:\n",
    "    results_text = \"subtracted intervals are not identical:\" + diff\n",
    "if OUTPUT_MODE == \"file\":\n",
    "    results_file.write(f\"{results_text}\\n\")\n",
    "else:\n",
    "    print(results_text)"
   ]
  },
  {
   "cell_type": "code",
   "execution_count": null,
   "metadata": {},
   "outputs": [],
   "source": [
    "results_file.close()\n",
    "conn.close()"
   ]
  },
  {
   "cell_type": "code",
   "execution_count": null,
   "metadata": {},
   "outputs": [],
   "source": [
    "ray.shutdown()"
   ]
  }
 ],
 "metadata": {
  "kernelspec": {
   "display_name": ".venv",
   "language": "python",
   "name": "python3"
  },
  "language_info": {
   "codemirror_mode": {
    "name": "ipython",
    "version": 3
   },
   "file_extension": ".py",
   "mimetype": "text/x-python",
   "name": "python",
   "nbconvert_exporter": "python",
   "pygments_lexer": "ipython3",
   "version": "3.12.3"
  }
 },
 "nbformat": 4,
 "nbformat_minor": 2
}
