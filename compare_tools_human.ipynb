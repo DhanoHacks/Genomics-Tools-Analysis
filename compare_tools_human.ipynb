{
 "cells": [
  {
   "cell_type": "code",
   "execution_count": 1,
   "metadata": {},
   "outputs": [],
   "source": [
    "import pyranges as pr\n",
    "import pandas as pd\n",
    "import numpy as np\n",
    "import sqlite3\n",
    "# import gffutils\n",
    "import time\n",
    "# import pybedtools\n",
    "import os\n",
    "from IPython import get_ipython\n",
    "from multiprocessing import Pool\n",
    "import ctypes"
   ]
  },
  {
   "cell_type": "code",
   "execution_count": 2,
   "metadata": {},
   "outputs": [],
   "source": [
    "gtf_file_name = \"Homo_sapiens.GRCh38.112.chr.gtf\"\n",
    "# gtf_file_name = \"/home/U210050044/data/DH607-project/Homo_sapiens.GRCh38.112.chr.gtf\"\n",
    "# sql_db_name = \"db-human.sqlite3\"\n",
    "sql_db_name = \"file:gtf?mode=memory&cache=shared\"\n",
    "results_file_name = \"results_human.txt\"\n",
    "lib = ctypes.CDLL(\"./gtf_to_sql.so\")\n",
    "# Define the function signature\n",
    "lib.run_gtf_to_sql.argtypes = [\n",
    "    ctypes.c_char_p,  # db_name\n",
    "    ctypes.c_char_p,  # table_name\n",
    "    ctypes.c_char_p,  # input_file\n",
    "    ctypes.c_int,     # num_threads\n",
    "]\n",
    "OUTPUT_MODE = \"print\"\n",
    "# OUTPUT_MODE = \"file\""
   ]
  },
  {
   "cell_type": "code",
   "execution_count": 3,
   "metadata": {},
   "outputs": [],
   "source": [
    "if OUTPUT_MODE == \"file\":\n",
    "    results_file = open(results_file_name,\"w\")"
   ]
  },
  {
   "cell_type": "code",
   "execution_count": 5,
   "metadata": {},
   "outputs": [
    {
     "name": "stdout",
     "output_type": "stream",
     "text": [
      "Finished reading into pyranges object in time 120.22567486763\n"
     ]
    }
   ],
   "source": [
    "start_time = time.time()\n",
    "human_gr = pr.read_gtf(gtf_file_name)\n",
    "end_time = time.time()\n",
    "if OUTPUT_MODE == \"file\":\n",
    "    results_file.write(f\"Finished reading into pyranges object in time {end_time-start_time}\\n\")\n",
    "else:\n",
    "    print(f\"Finished reading into pyranges object in time {end_time-start_time}\")"
   ]
  },
  {
   "cell_type": "code",
   "execution_count": null,
   "metadata": {},
   "outputs": [
    {
     "name": "stdout",
     "output_type": "stream",
     "text": [
      "Finished converting gtf to sql db in time 460.73711919784546\n"
     ]
    }
   ],
   "source": [
    "# start_time = time.time()\n",
    "# human_db = gffutils.create_db(\"/home/U210050044/data/DH607-project/Homo_sapiens.GRCh38.112.chr.gtf\",\"/home/U210050044/data/DH607-project/human_db.sqlite3\",disable_infer_genes=True,disable_infer_transcripts=True, force=True)\n",
    "# end_time = time.time()\n",
    "# results_file.write(f\"Finished converting gtf to sql db in time {end_time-start_time}\")"
   ]
  },
  {
   "cell_type": "code",
   "execution_count": 7,
   "metadata": {},
   "outputs": [],
   "source": [
    "# # Open the database\n",
    "# human_db = gffutils.FeatureDB(\"/home/U210050044/data/DH607-project/human_db.sqlite3\")"
   ]
  },
  {
   "cell_type": "code",
   "execution_count": 4,
   "metadata": {},
   "outputs": [
    {
     "name": "stdout",
     "output_type": "stream",
     "text": [
      "Time taken to read data: 12ms\n",
      "Time taken to read data: 12ms\n",
      "Time taken to read data: 11ms\n",
      "Time taken to read data: 11ms\n",
      "Time taken to read data: 11ms\n",
      "Time taken to read data: 11ms\n",
      "Time taken to read data: 11ms\n",
      "Time taken to read data: 11ms\n",
      "Time taken to process data: 617ms\n",
      "Time taken to read data: 4ms\n",
      "Time taken to process data: 617ms\n",
      "Time taken to read data: 4ms\n",
      "Time taken to process data: 624ms\n",
      "Time taken to process data: 605ms\n",
      "Time taken to read data: 4ms\n",
      "Time taken to process data: 606ms\n",
      "Time taken to read data: 4ms\n",
      "Time taken to process data: 600ms\n",
      "Time taken to read data: 4ms\n",
      "Time taken to read data: 4ms\n",
      "Time taken to process data: 613ms\n",
      "Time taken to read data: 4ms\n",
      "Time taken to process data: 670ms\n",
      "Time taken to read data: 3ms\n",
      "Time taken to process data: 583ms\n",
      "Time taken to process data: 581ms\n",
      "Time taken to read data: 4ms\n",
      "Time taken to read data: 4ms\n",
      "Time taken to process data: 598ms\n",
      "Time taken to process data: 584ms\n",
      "Time taken to read data: 6ms\n",
      "Time taken to process data: 649ms\n",
      "Time taken to read data: 4ms\n",
      "Time taken to read data: 4ms\n",
      "Time taken to process data: 602ms\n",
      "Time taken to process data: 575ms\n",
      "Time taken to read data: 5ms\n",
      "Time taken to process data: 592ms\n",
      "Time taken to read data: 4ms\n",
      "Time taken to read data: 4ms\n",
      "Time taken to process data: 561ms\n",
      "Time taken to process data: 555ms\n",
      "Time taken to process data: 582ms\n",
      "Time taken to process data: 576ms\n",
      "Time taken to process data: 569ms\n",
      "Time taken to process data: 556ms\n",
      "Time taken to process data: 566ms\n",
      "Time taken to read data: 3ms\n",
      "Time taken to read data: 4ms\n",
      "Time taken to process data: 581ms\n",
      "Time taken to read data: 4ms\n",
      "Time taken to read data: 4ms\n",
      "Time taken to read data: 5ms\n",
      "Time taken to read data: 4ms\n",
      "Time taken to read data: 4ms\n",
      "Time taken to read data: 6ms\n",
      "Time taken to process data: 553ms\n",
      "Time taken to process data: 532ms\n",
      "Time taken to read data: 4ms\n",
      "Time taken to read data: 4ms\n",
      "Time taken to process data: 570ms\n",
      "Time taken to process data: 561ms\n",
      "Time taken to process data: 580ms\n",
      "Time taken to read data: 4ms\n",
      "Time taken to read data: 4ms\n",
      "Time taken to read data: 4ms\n",
      "Time taken to process data: 581ms\n",
      "Time taken to process data: 594ms\n",
      "Time taken to process data: 574ms\n",
      "Time taken to read data: 4ms\n",
      "Time taken to read data: 4ms\n",
      "Time taken to read data: 3ms\n",
      "Time taken to process data: 567ms\n",
      "Time taken to process data: 580ms\n",
      "Time taken to process data: 571ms\n",
      "Time taken to process data: 547ms\n",
      "Time taken to process data: 592ms\n",
      "Time taken to process data: 574ms\n",
      "Time taken to process data: 580ms\n",
      "Time taken to process data: 637ms\n",
      "Time taken to read data: 5ms\n",
      "Time taken to read data: 4ms\n",
      "Time taken to read data: 5ms\n",
      "Time taken to read data: 4ms\n",
      "Time taken to read data: 4ms\n",
      "Time taken to read data: 4ms\n",
      "Time taken to read data: 4ms\n",
      "Time taken to read data: 4ms\n",
      "Time taken to process data: 535ms\n",
      "Time taken to move data: 0ms\n",
      "Time taken to read data: 4ms\n",
      "Pushed 409995 lines to db in time 16ms\n",
      "Time taken to process data: 548ms\n",
      "Time taken to process data: 558ms\n",
      "Time taken to process data: 579ms\n",
      "Time taken to read data: 4ms\n",
      "Time taken to process data: 556ms\n",
      "Time taken to read data: 4ms\n",
      "Time taken to process data: 576ms\n",
      "Time taken to process data: 575ms\n",
      "Time taken to read data: 6ms\n",
      "Time taken to process data: 566ms\n",
      "Time taken to read data: 4ms\n",
      "Time taken to read data: 4ms\n",
      "Time taken to read data: 6ms\n",
      "Time taken to read data: 6ms\n",
      "Time taken to process data: 566ms\n",
      "Time taken to read data: 4ms\n",
      "Time taken to process data: 552ms\n",
      "Time taken to process data: 580ms\n",
      "Time taken to read data: 4ms\n",
      "Time taken to read data: 3ms\n",
      "Time taken to process data: 579ms\n",
      "Time taken to read data: 4ms\n",
      "Time taken to process data: 659ms\n",
      "Time taken to read data: 4ms\n",
      "Time taken to process data: 690ms\n",
      "Time taken to read data: 3ms\n",
      "Time taken to process data: 669ms\n",
      "Time taken to read data: 4ms\n",
      "Time taken to process data: 786ms\n",
      "Time taken to read data: 3ms\n",
      "Time taken to process data: 567ms\n",
      "Time taken to read data: 4ms\n",
      "Time taken to process data: 549ms\n",
      "Time taken to process data: 558ms\n",
      "Time taken to process data: 581ms\n",
      "Time taken to read data: 4ms\n",
      "Time taken to read data: 3ms\n",
      "Time taken to read data: 3ms\n",
      "Time taken to process data: 583ms\n",
      "Time taken to process data: 574ms\n",
      "Time taken to read data: 3ms\n",
      "Time taken to read data: 3ms\n",
      "Time taken to process data: 587ms\n",
      "Time taken to read data: 4ms\n",
      "Time taken to process data: 556ms\n",
      "Time taken to read data: 3ms\n",
      "Time taken to process data: 565ms\n",
      "Time taken to read data: 3ms\n",
      "Processed 100000 lines\n",
      "Time taken to process data: 560ms\n",
      "Time taken to process data: 568ms\n",
      "Time taken to read data: 3ms\n",
      "Processed 100000 lines\n",
      "Time taken to read data: 3ms\n",
      "Processed 100000 lines\n",
      "Time taken to process data: 581ms\n",
      "Time taken to read data: 3ms\n",
      "Processed 100000 lines\n",
      "Time taken to process data: 550ms\n",
      "Time taken to read data: 3ms\n",
      "Processed 100000 lines\n",
      "Time taken to process data: 563ms\n",
      "Time taken to read data: 3ms\n",
      "Processed 100000 lines\n",
      "Time taken to process data: 584ms\n",
      "Time taken to read data: 4ms\n",
      "Time taken to process data: 565ms\n",
      "Time taken to read data: 4ms\n",
      "Processed 100000 lines\n",
      "Time taken to process data: 560ms\n",
      "Time taken to read data: 3ms\n",
      "Time taken to process data: 562ms\n",
      "Time taken to process data: 572ms\n",
      "Time taken to process data: 574ms\n",
      "Time taken to process data: 550ms\n",
      "Time taken to read data: 4ms\n",
      "Time taken to process data: 612ms\n",
      "Time taken to read data: 4ms\n",
      "Time taken to read data: 4ms\n",
      "Time taken to read data: 3ms\n",
      "Time taken to read data: 3ms\n",
      "Time taken to process data: 578ms\n",
      "Time taken to read data: 3ms\n",
      "Time taken to process data: 581ms\n",
      "Time taken to read data: 3ms\n",
      "Time taken to process data: 616ms\n",
      "Time taken to move data: 0ms\n",
      "Time taken to read data: 4ms\n",
      "Pushed 400000 lines to db in time 17ms\n",
      "Time taken to process data: 611ms\n",
      "Time taken to read data: 3ms\n",
      "Time taken to process data: 622ms\n",
      "Time taken to read data: 3ms\n",
      "Time taken to process data: 619ms\n",
      "Time taken to read data: 4ms\n",
      "Time taken to process data: 642ms\n",
      "Time taken to read data: 3ms\n",
      "Time taken to process data: 646ms\n",
      "Time taken to read data: 3ms\n",
      "Time taken to process data: 624ms\n",
      "Time taken to read data: 3ms\n",
      "Time taken to process data: 626ms\n",
      "Time taken to read data: 3ms\n",
      "Time taken to process data: 552ms\n",
      "Time taken to read data: 3ms\n",
      "Time taken to process data: 585ms\n",
      "Time taken to read data: 3ms\n",
      "Time taken to process data: 619ms\n",
      "Time taken to process data: 608ms\n",
      "Time taken to read data: 4ms\n",
      "Time taken to read data: 4ms\n",
      "Time taken to process data: 610ms\n",
      "Time taken to process data: 598ms\n",
      "Time taken to read data: 4ms\n",
      "Time taken to read data: 3ms\n",
      "Time taken to process data: 614ms\n",
      "Time taken to read data: 3ms\n",
      "Time taken to process data: 606ms\n",
      "Time taken to read data: 3ms\n",
      "Time taken to process data: 605ms\n",
      "Time taken to read data: 3ms\n",
      "Time taken to process data: 554ms\n",
      "Time taken to process data: 568ms\n",
      "Time taken to process data: 557ms\n",
      "Time taken to process data: 563ms\n",
      "Time taken to read data: 4ms\n",
      "Time taken to read data: 4ms\n",
      "Time taken to read data: 3ms\n",
      "Time taken to read data: 4ms\n",
      "Time taken to process data: 581ms\n",
      "Time taken to read data: 3ms\n",
      "Time taken to process data: 634ms\n",
      "Time taken to read data: 3ms\n",
      "Time taken to process data: 553ms\n",
      "Time taken to read data: 4ms\n",
      "Time taken to process data: 573ms\n",
      "Time taken to read data: 3ms\n",
      "Time taken to process data: 549ms\n",
      "Time taken to read data: 4ms\n",
      "Time taken to process data: 550ms\n",
      "Time taken to process data: 556ms\n",
      "Time taken to read data: 4ms\n",
      "Time taken to read data: 4ms\n",
      "Time taken to process data: 571ms\n",
      "Time taken to read data: 6ms\n",
      "Time taken to process data: 534ms\n",
      "Time taken to read data: 4ms\n",
      "Time taken to process data: 559ms\n",
      "Time taken to read data: 3ms\n",
      "Time taken to process data: 571ms\n",
      "Time taken to read data: 3ms\n",
      "Time taken to process data: 561ms\n",
      "Time taken to read data: 3ms\n",
      "Time taken to process data: 557ms\n",
      "Time taken to process data: 577ms\n",
      "Time taken to read data: 4ms\n",
      "Time taken to process data: 563ms\n",
      "Time taken to process data: 555ms\n",
      "Time taken to read data: 4ms\n",
      "Time taken to read data: 3ms\n",
      "Time taken to read data: 4ms\n",
      "Time taken to process data: 544ms\n",
      "Time taken to read data: 3ms\n",
      "Time taken to process data: 568ms\n",
      "Time taken to read data: 6ms\n",
      "Time taken to process data: 558ms\n",
      "Time taken to read data: 3ms\n",
      "Time taken to process data: 567ms\n",
      "Time taken to move data: 0ms\n",
      "Time taken to read data: 4ms\n",
      "Pushed 400000 lines to db in time 16ms\n",
      "Time taken to process data: 563ms\n",
      "Time taken to process data: 558ms\n",
      "Time taken to read data: 4ms\n",
      "Time taken to process data: 560ms\n",
      "Time taken to read data: 4ms\n",
      "Time taken to process data: 559ms\n",
      "Time taken to read data: 4ms\n",
      "Time taken to read data: 4ms\n",
      "Time taken to process data: 566ms\n",
      "Time taken to read data: 4ms\n",
      "Time taken to process data: 560ms\n",
      "Time taken to read data: 4ms\n",
      "Time taken to process data: 616ms\n",
      "Time taken to read data: 4ms\n",
      "Time taken to process data: 566ms\n",
      "Time taken to read data: 4ms\n",
      "Time taken to process data: 540ms\n",
      "Time taken to process data: 557ms\n",
      "Time taken to process data: 556ms\n",
      "Time taken to read data: 3ms\n",
      "Time taken to read data: 4ms\n",
      "Time taken to read data: 4ms\n",
      "Time taken to process data: 575ms\n",
      "Time taken to read data: 3ms\n",
      "Time taken to process data: 550ms\n",
      "Time taken to read data: 4ms\n",
      "Time taken to process data: 550ms\n",
      "Time taken to read data: 3ms\n",
      "Time taken to process data: 542ms\n",
      "Time taken to read data: 3ms\n",
      "Time taken to process data: 541ms\n",
      "Time taken to read data: 3ms\n",
      "Time taken to process data: 521ms\n",
      "Time taken to process data: 528ms\n",
      "Time taken to process data: 535ms\n",
      "Time taken to process data: 521ms\n",
      "Time taken to process data: 548ms\n",
      "Time taken to read data: 3ms\n",
      "Time taken to read data: 4ms\n",
      "Time taken to read data: 4ms\n",
      "Time taken to read data: 4ms\n",
      "Time taken to read data: 3ms\n",
      "Time taken to process data: 543ms\n",
      "Time taken to read data: 3ms\n",
      "Time taken to process data: 559ms\n",
      "Time taken to read data: 5ms\n",
      "Time taken to process data: 536ms\n",
      "Time taken to read data: 3ms\n",
      "Processed 200000 lines\n",
      "Time taken to process data: 520ms\n",
      "Time taken to process data: 537ms\n",
      "Time taken to read data: 3ms\n",
      "Processed 200000 lines\n",
      "Time taken to process data: 534ms\n",
      "Time taken to read data: 3ms\n",
      "Processed 200000 lines\n",
      "Time taken to process data: 539ms\n",
      "Time taken to process data: 553ms\n",
      "Time taken to read data: 3ms\n",
      "Time taken to read data: 3ms\n",
      "Processed 200000 lines\n",
      "Time taken to read data: 3ms\n",
      "Processed 200000 lines\n",
      "Time taken to process data: 531ms\n",
      "Time taken to read data: 3ms\n",
      "Processed 200000 lines\n",
      "Time taken to process data: 543ms\n",
      "Time taken to read data: 3ms\n",
      "Processed 200000 lines\n",
      "Time taken to process data: 514ms\n",
      "Time taken to read data: 3ms\n",
      "Time taken to process data: 521ms\n",
      "Time taken to process data: 518ms\n",
      "Time taken to read data: 3ms\n",
      "Time taken to read data: 4ms\n",
      "Time taken to process data: 529ms\n",
      "Time taken to process data: 531ms\n",
      "Time taken to read data: 4ms\n",
      "Time taken to read data: 3ms\n",
      "Time taken to process data: 543ms\n",
      "Time taken to read data: 3ms\n",
      "Time taken to process data: 539ms\n",
      "Time taken to read data: 4ms\n",
      "Time taken to process data: 536ms\n",
      "Time taken to read data: 3ms\n",
      "Time taken to process data: 521ms\n",
      "Time taken to move data: 0ms\n",
      "Time taken to read data: 4ms\n",
      "Pushed 400000 lines to db in time 14ms\n",
      "Time taken to process data: 537ms\n",
      "Time taken to read data: 3ms\n",
      "Time taken to process data: 539ms\n",
      "Time taken to read data: 3ms\n",
      "Time taken to process data: 542ms\n",
      "Time taken to read data: 3ms\n",
      "Time taken to process data: 543ms\n",
      "Time taken to process data: 529ms\n",
      "Time taken to read data: 3ms\n",
      "Time taken to process data: 517ms\n",
      "Time taken to read data: 3ms\n",
      "Time taken to read data: 3ms\n",
      "Time taken to process data: 610ms\n",
      "Time taken to read data: 5ms\n",
      "Time taken to process data: 541ms\n",
      "Time taken to read data: 3ms\n",
      "Time taken to process data: 539ms\n",
      "Time taken to process data: 539ms\n",
      "Time taken to process data: 538ms\n",
      "Time taken to read data: 3ms\n",
      "Time taken to read data: 3ms\n",
      "Time taken to process data: 539ms\n",
      "Time taken to process data: 527ms\n",
      "Time taken to read data: 4ms\n",
      "Time taken to read data: 4ms\n",
      "Time taken to process data: 540ms\n",
      "Time taken to read data: 3ms\n",
      "Time taken to read data: 3ms\n",
      "Time taken to process data: 534ms\n",
      "Time taken to read data: 3ms\n",
      "Time taken to process data: 519ms\n",
      "Time taken to read data: 3ms\n",
      "Time taken to process data: 525ms\n",
      "Time taken to process data: 532ms\n",
      "Time taken to process data: 525ms\n",
      "Time taken to process data: 528ms\n",
      "Time taken to process data: 535ms\n",
      "Time taken to process data: 530ms\n",
      "Time taken to read data: 3ms\n",
      "Time taken to read data: 3ms\n",
      "Time taken to read data: 3ms\n",
      "Time taken to read data: 3ms\n",
      "Time taken to read data: 3ms\n",
      "Time taken to read data: 6ms\n",
      "Time taken to process data: 530ms\n",
      "Time taken to read data: 4ms\n",
      "Time taken to process data: 540ms\n",
      "Time taken to read data: 3ms\n",
      "Time taken to process data: 519ms\n",
      "Time taken to process data: 530ms\n",
      "Time taken to process data: 532ms\n",
      "Time taken to read data: 4ms\n",
      "Time taken to read data: 3ms\n",
      "Time taken to read data: 3ms\n",
      "Time taken to process data: 537ms\n",
      "Time taken to read data: 3ms\n",
      "Time taken to process data: 548ms\n",
      "Time taken to process data: 547ms\n",
      "Time taken to read data: 4ms\n",
      "Time taken to read data: 3ms\n",
      "Time taken to process data: 591ms\n",
      "Time taken to read data: 3ms\n",
      "Time taken to process data: 534ms\n",
      "Time taken to read data: 3ms\n",
      "Time taken to process data: 531ms\n",
      "Time taken to process data: 528ms\n",
      "Time taken to process data: 538ms\n",
      "Time taken to process data: 533ms\n",
      "Time taken to process data: 531ms\n",
      "Time taken to process data: 537ms\n",
      "Time taken to read data: 3ms\n",
      "Time taken to read data: 3ms\n",
      "Time taken to read data: 3ms\n",
      "Time taken to read data: 4ms\n",
      "Time taken to read data: 3ms\n",
      "Time taken to read data: 3ms\n",
      "Time taken to process data: 527ms\n",
      "Time taken to read data: 3ms\n",
      "Time taken to process data: 525ms\n",
      "Time taken to move data: 0ms\n",
      "Time taken to read data: 3ms\n",
      "Pushed 400000 lines to db in time 12ms\n",
      "Time taken to process data: 523ms\n",
      "Time taken to read data: 3ms\n",
      "Time taken to process data: 529ms\n",
      "Time taken to read data: 3ms\n",
      "Time taken to process data: 540ms\n",
      "Time taken to process data: 539ms\n",
      "Time taken to process data: 548ms\n",
      "Time taken to read data: 4ms\n",
      "Time taken to process data: 542ms\n",
      "Time taken to read data: 4ms\n",
      "Time taken to read data: 3ms\n",
      "Time taken to read data: 3ms\n",
      "Time taken to process data: 537ms\n",
      "Time taken to read data: 3ms\n",
      "Time taken to process data: 526ms\n",
      "Time taken to read data: 3ms\n",
      "Time taken to process data: 520ms\n",
      "Time taken to read data: 3ms\n",
      "Time taken to process data: 528ms\n",
      "Time taken to process data: 512ms\n",
      "Time taken to read data: 3ms\n",
      "Time taken to read data: 3ms\n",
      "Time taken to process data: 518ms\n",
      "Time taken to read data: 3ms\n",
      "Time taken to process data: 531ms\n",
      "Time taken to process data: 526ms\n",
      "Time taken to read data: 3ms\n",
      "Time taken to read data: 4ms\n",
      "Time taken to process data: 609ms\n",
      "Time taken to read data: 3ms\n",
      "Time taken to process data: 543ms\n",
      "Time taken to read data: 3ms\n",
      "Time taken to process data: 546ms\n",
      "Time taken to process data: 537ms\n",
      "Time taken to process data: 548ms\n",
      "Time taken to process data: 537ms\n",
      "Time taken to process data: 531ms\n",
      "Time taken to process data: 535ms\n",
      "Time taken to read data: 3ms\n",
      "Time taken to read data: 4ms\n",
      "Time taken to read data: 4ms\n",
      "Time taken to read data: 3ms\n",
      "Time taken to read data: 3ms\n",
      "Time taken to read data: 4ms\n",
      "Time taken to process data: 531ms\n",
      "Time taken to read data: 3ms\n",
      "Time taken to process data: 532ms\n",
      "Time taken to read data: 4ms\n",
      "Processed 300000 lines\n",
      "Time taken to process data: 536ms\n",
      "Time taken to process data: 530ms\n",
      "Time taken to read data: 3ms\n",
      "Processed 300000 lines\n",
      "Time taken to process data: 539ms\n",
      "Time taken to process data: 531ms\n",
      "Time taken to read data: 4ms\n",
      "Processed 300000 lines\n",
      "Time taken to process data: 531ms\n",
      "Time taken to read data: 3ms\n",
      "Time taken to process data: 530ms\n",
      "Time taken to read data: 3ms\n",
      "Processed 300000 lines\n",
      "Time taken to read data: 3ms\n",
      "Processed 300000 lines\n",
      "Time taken to read data: 3ms\n",
      "Processed 300000 lines\n",
      "Time taken to process data: 523ms\n",
      "Time taken to read data: 3ms\n",
      "Processed 300000 lines\n",
      "Time taken to process data: 538ms\n",
      "Time taken to read data: 3ms\n",
      "Time taken to process data: 519ms\n",
      "Time taken to process data: 532ms\n",
      "Time taken to process data: 526ms\n",
      "Time taken to process data: 525ms\n",
      "Time taken to process data: 531ms\n",
      "Time taken to process data: 543ms\n",
      "Time taken to read data: 3ms\n",
      "Time taken to read data: 4ms\n",
      "Time taken to read data: 5ms\n",
      "Time taken to read data: 5ms\n",
      "Time taken to read data: 3ms\n",
      "Time taken to read data: 3ms\n",
      "Time taken to process data: 608ms\n",
      "Time taken to read data: 5ms\n",
      "Time taken to process data: 536ms\n",
      "Time taken to move data: 0ms\n",
      "Time taken to read data: 4ms\n",
      "Pushed 400000 lines to db in time 15ms\n",
      "Time taken to process data: 543ms\n",
      "Time taken to read data: 3ms\n",
      "Time taken to process data: 528ms\n",
      "Time taken to read data: 3ms\n",
      "Time taken to process data: 542ms\n",
      "Time taken to read data: 3ms\n",
      "Time taken to process data: 572ms\n",
      "Time taken to process data: 570ms\n",
      "Time taken to read data: 3ms\n",
      "Time taken to read data: 3ms\n",
      "Time taken to process data: 626ms\n",
      "Time taken to read data: 3ms\n",
      "Time taken to process data: 579ms\n",
      "Time taken to read data: 3ms\n",
      "Time taken to process data: 548ms\n",
      "Time taken to read data: 4ms\n",
      "Time taken to process data: 525ms\n",
      "Time taken to process data: 535ms\n",
      "Time taken to read data: 4ms\n",
      "Time taken to read data: 4ms\n",
      "Time taken to process data: 531ms\n",
      "Time taken to read data: 3ms\n",
      "Time taken to process data: 532ms\n",
      "Time taken to read data: 3ms\n",
      "Time taken to process data: 545ms\n",
      "Time taken to read data: 3ms\n",
      "Time taken to process data: 541ms\n",
      "Time taken to read data: 3ms\n",
      "Time taken to process data: 528ms\n",
      "Time taken to read data: 3ms\n",
      "Time taken to process data: 537ms\n",
      "Time taken to read data: 3ms\n",
      "Time taken to process data: 529ms\n",
      "Time taken to read data: 3ms\n",
      "Time taken to process data: 547ms\n",
      "Time taken to read data: 3ms\n",
      "Time taken to process data: 541ms\n",
      "Time taken to read data: 3ms\n",
      "Time taken to process data: 543ms\n",
      "Time taken to read data: 3ms\n",
      "Time taken to process data: 540ms\n",
      "Time taken to read data: 3ms\n",
      "Time taken to process data: 522ms\n",
      "Time taken to read data: 3ms\n",
      "Time taken to process data: 598ms\n",
      "Time taken to read data: 3ms\n",
      "Time taken to process data: 508ms\n",
      "Time taken to read data: 3ms\n",
      "Time taken to process data: 536ms\n",
      "Time taken to read data: 3ms\n",
      "Time taken to process data: 539ms\n",
      "Time taken to read data: 3ms\n",
      "Time taken to process data: 542ms\n",
      "Time taken to read data: 3ms\n",
      "Time taken to process data: 536ms\n",
      "Time taken to process data: 527ms\n",
      "Time taken to read data: 3ms\n",
      "Time taken to read data: 3ms\n",
      "Time taken to process data: 523ms\n",
      "Time taken to read data: 3ms\n",
      "Time taken to process data: 534ms\n",
      "Time taken to read data: 3ms\n",
      "Time taken to process data: 516ms\n",
      "Time taken to read data: 3ms\n",
      "Time taken to process data: 534ms\n",
      "Time taken to read data: 3ms\n",
      "Time taken to process data: 538ms\n",
      "Time taken to read data: 3ms\n",
      "Time taken to process data: 535ms\n",
      "Time taken to process data: 527ms\n",
      "Time taken to process data: 522ms\n",
      "Time taken to read data: 3ms\n",
      "Time taken to read data: 4ms\n",
      "Time taken to read data: 3ms\n",
      "Time taken to process data: 519ms\n",
      "Time taken to read data: 3ms\n",
      "Time taken to process data: 533ms\n",
      "Time taken to read data: 3ms\n",
      "Time taken to process data: 522ms\n",
      "Time taken to move data: 0ms\n",
      "Time taken to read data: 3ms\n",
      "Pushed 400000 lines to db in time 13ms\n",
      "Time taken to process data: 538ms\n",
      "Time taken to read data: 3ms\n",
      "Time taken to process data: 550ms\n",
      "Time taken to read data: 4ms\n",
      "Time taken to process data: 546ms\n",
      "Time taken to process data: 545ms\n",
      "Time taken to process data: 541ms\n",
      "Time taken to read data: 3ms\n",
      "Time taken to read data: 4ms\n",
      "Time taken to read data: 3ms\n",
      "Time taken to process data: 545ms\n",
      "Time taken to read data: 3ms\n",
      "Time taken to process data: 598ms\n",
      "Time taken to read data: 3ms\n",
      "Time taken to process data: 528ms\n",
      "Time taken to read data: 3ms\n",
      "Time taken to process data: 532ms\n",
      "Time taken to read data: 3ms\n",
      "Time taken to process data: 539ms\n",
      "Time taken to process data: 530ms\n",
      "Time taken to read data: 3ms\n",
      "Time taken to read data: 3ms\n",
      "Time taken to process data: 541ms\n",
      "Time taken to process data: 540ms\n",
      "Time taken to read data: 4ms\n",
      "Time taken to read data: 3ms\n",
      "Time taken to process data: 527ms\n",
      "Time taken to read data: 3ms\n",
      "Time taken to process data: 522ms\n",
      "Time taken to read data: 3ms\n",
      "Time taken to process data: 525ms\n",
      "Time taken to read data: 3ms\n",
      "Time taken to process data: 524ms\n",
      "Time taken to process data: 532ms\n",
      "Time taken to process data: 524ms\n",
      "Time taken to process data: 541ms\n",
      "Time taken to read data: 3ms\n",
      "Time taken to process data: 536ms\n",
      "Time taken to read data: 5ms\n",
      "Time taken to process data: 527ms\n",
      "Time taken to read data: 5ms\n",
      "Time taken to read data: 3ms\n",
      "Time taken to read data: 5ms\n",
      "Time taken to read data: 6ms\n",
      "Time taken to process data: 528ms\n",
      "Time taken to read data: 3ms\n",
      "Processed 400000 lines\n",
      "Time taken to process data: 574ms\n",
      "Time taken to read data: 3ms\n",
      "Time taken to process data: 529ms\n",
      "Time taken to process data: 524ms\n",
      "Time taken to read data: 3ms\n",
      "Processed 400000 lines\n",
      "Time taken to read data: 3ms\n",
      "Processed 400000 lines\n",
      "Time taken to process data: 541ms\n",
      "Time taken to read data: 3ms\n",
      "Processed 400000 lines\n",
      "Time taken to process data: 563ms\n",
      "Time taken to read data: 3ms\n",
      "Time taken to process data: 569ms\n",
      "Time taken to read data: 4ms\n",
      "Processed 400000 lines\n",
      "Time taken to process data: 645ms\n",
      "Time taken to read data: 3ms\n",
      "Processed 400000 lines\n",
      "Time taken to process data: 519ms\n",
      "Time taken to read data: 3ms\n",
      "Time taken to process data: 533ms\n",
      "Time taken to read data: 3ms\n",
      "Processed 400000 lines\n",
      "Time taken to process data: 532ms\n",
      "Time taken to process data: 549ms\n",
      "Time taken to process data: 539ms\n",
      "Time taken to process data: 539ms\n",
      "Time taken to process data: 541ms\n",
      "Time taken to read data: 3ms\n",
      "Time taken to read data: 3ms\n",
      "Time taken to read data: 4ms\n",
      "Time taken to read data: 3ms\n",
      "Time taken to read data: 3ms\n",
      "Time taken to process data: 541ms\n",
      "Time taken to read data: 4ms\n",
      "Time taken to process data: 537ms\n",
      "Time taken to read data: 3ms\n",
      "Time taken to process data: 539ms\n",
      "Time taken to move data: 0ms\n",
      "Time taken to read data: 8ms\n",
      "Pushed 400000 lines to db in time 15ms\n",
      "Time taken to process data: 536ms\n",
      "Time taken to process data: 533ms\n",
      "Time taken to process data: 543ms\n",
      "Time taken to read data: 4ms\n",
      "Time taken to process data: 536ms\n",
      "Time taken to read data: 4ms\n",
      "Time taken to process data: 538ms\n",
      "Time taken to read data: 4ms\n",
      "Time taken to read data: 4ms\n",
      "Time taken to read data: 3ms\n",
      "Time taken to process data: 548ms\n",
      "Time taken to read data: 3ms\n",
      "Time taken to process data: 538ms\n",
      "Time taken to read data: 3ms\n",
      "Time taken to process data: 537ms\n",
      "Time taken to read data: 3ms\n",
      "Time taken to process data: 528ms\n",
      "Time taken to process data: 532ms\n",
      "Time taken to process data: 517ms\n",
      "Time taken to process data: 540ms\n",
      "Time taken to process data: 546ms\n",
      "Time taken to read data: 4ms\n",
      "Time taken to read data: 4ms\n",
      "Time taken to read data: 3ms\n",
      "Time taken to read data: 4ms\n",
      "Time taken to read data: 3ms\n",
      "Time taken to process data: 530ms\n",
      "Time taken to read data: 3ms\n",
      "Time taken to process data: 598ms\n",
      "Time taken to read data: 3ms\n",
      "Time taken to process data: 535ms\n",
      "Time taken to read data: 3ms\n",
      "Time taken to process data: 528ms\n",
      "Time taken to process data: 529ms\n",
      "Time taken to process data: 535ms\n",
      "Time taken to process data: 530ms\n",
      "Time taken to process data: 535ms\n",
      "Time taken to read data: 4ms\n",
      "Time taken to read data: 1ms\n",
      "Time taken to read data: 0ms\n",
      "Time taken to process data: 0ms\n",
      "Time taken to read data: 0ms\n",
      "Time taken to process data: 0ms\n",
      "Time taken to read data: 0ms\n",
      "Time taken to process data: 0ms\n",
      "Time taken to process data: 524ms\n",
      "Time taken to read data: 0ms\n",
      "Time taken to process data: 0ms\n",
      "Time taken to process data: 526ms\n",
      "Time taken to read data: 0ms\n",
      "Time taken to process data: 0ms\n",
      "Time taken to process data: 526ms\n",
      "Time taken to read data: 0ms\n",
      "Time taken to process data: 0ms\n",
      "Time taken to process data: 213ms\n",
      "Time taken to process data: 510ms\n",
      "Time taken to read data: 0ms\n",
      "Time taken to process data: 0ms\n",
      "Time taken to move data: 0ms\n",
      "Pushed 253983 lines to db in time 7ms\n",
      "Finished reading into sql db in time 25.314509391784668\n"
     ]
    }
   ],
   "source": [
    "# Call the function\n",
    "os.system(\"g++ -std=c++11 -shared -fPIC -o gtf_to_sql.so gtf_to_sql.cpp -lsqlite3 -pthread\")\n",
    "start_time = time.time()\n",
    "lib.run_gtf_to_sql(sql_db_name.encode(\"utf-8\"), \"human\".encode(\"utf-8\"), gtf_file_name.encode(\"utf-8\"), 8)\n",
    "end_time = time.time()\n",
    "if OUTPUT_MODE == \"file\":\n",
    "    results_file.write(f\"Finished reading into sql db in time {end_time-start_time}\\n\")\n",
    "else:\n",
    "    print(f\"Finished reading into sql db in time {end_time-start_time}\")"
   ]
  },
  {
   "cell_type": "code",
   "execution_count": 6,
   "metadata": {},
   "outputs": [],
   "source": [
    "conn = sqlite3.connect(sql_db_name)\n",
    "cur = conn.cursor()"
   ]
  },
  {
   "cell_type": "code",
   "execution_count": 11,
   "metadata": {},
   "outputs": [
    {
     "ename": "NameError",
     "evalue": "name 'OUTPUT_MODE' is not defined",
     "output_type": "error",
     "traceback": [
      "\u001b[0;31m---------------------------------------------------------------------------\u001b[0m",
      "\u001b[0;31mNameError\u001b[0m                                 Traceback (most recent call last)",
      "Cell \u001b[0;32mIn[11], line 4\u001b[0m\n\u001b[1;32m      2\u001b[0m human_gr2 \u001b[38;5;241m=\u001b[39m pr\u001b[38;5;241m.\u001b[39mPyRanges(pd\u001b[38;5;241m.\u001b[39mread_sql(\u001b[38;5;124m\"\u001b[39m\u001b[38;5;124mSELECT * FROM human\u001b[39m\u001b[38;5;124m\"\u001b[39m, conn))\n\u001b[1;32m      3\u001b[0m end_time \u001b[38;5;241m=\u001b[39m time\u001b[38;5;241m.\u001b[39mtime()\n\u001b[0;32m----> 4\u001b[0m \u001b[38;5;28;01mif\u001b[39;00m \u001b[43mOUTPUT_MODE\u001b[49m \u001b[38;5;241m==\u001b[39m \u001b[38;5;124m\"\u001b[39m\u001b[38;5;124mfile\u001b[39m\u001b[38;5;124m\"\u001b[39m:\n\u001b[1;32m      5\u001b[0m     results_file\u001b[38;5;241m.\u001b[39mwrite(\u001b[38;5;124mf\u001b[39m\u001b[38;5;124m\"\u001b[39m\u001b[38;5;124mFinished reading from sql to pyranges in time \u001b[39m\u001b[38;5;132;01m{\u001b[39;00mend_time\u001b[38;5;241m-\u001b[39mstart_time\u001b[38;5;132;01m}\u001b[39;00m\u001b[38;5;130;01m\\n\u001b[39;00m\u001b[38;5;124m\"\u001b[39m)\n\u001b[1;32m      6\u001b[0m \u001b[38;5;28;01melse\u001b[39;00m:\n",
      "\u001b[0;31mNameError\u001b[0m: name 'OUTPUT_MODE' is not defined"
     ]
    }
   ],
   "source": [
    "start_time = time.time()\n",
    "human_gr2 = pr.PyRanges(pd.read_sql(\"SELECT * FROM human\", conn))\n",
    "end_time = time.time()\n",
    "if OUTPUT_MODE == \"file\":\n",
    "    results_file.write(f\"Finished reading from sql to pyranges in time {end_time-start_time}\\n\")\n",
    "else:\n",
    "    print(f\"Finished reading from sql to pyranges in time {end_time-start_time}\")"
   ]
  },
  {
   "cell_type": "markdown",
   "metadata": {},
   "source": [
    "# Aggregate Queries: Counting transcripts, calculating exon lengths, and grouping features\n",
    "### Aggregate Query 1: Count the number of exons for each gene"
   ]
  },
  {
   "cell_type": "code",
   "execution_count": null,
   "metadata": {},
   "outputs": [
    {
     "name": "stdout",
     "output_type": "stream",
     "text": [
      "12 s ± 989 ms per loop (mean ± std. dev. of 7 runs, 1 loop each)\n",
      "Time taken to count exons using pyranges is 12 s ± 989 ms per loop (mean ± std. dev. of 7 runs, 1 loop each)\n"
     ]
    }
   ],
   "source": [
    "# Using pyranges\n",
    "time = get_ipython().run_line_magic(\"timeit\",'-o (human_gr[human_gr.Feature == \"exon\"].df.groupby(\"gene_id\").size().reset_index(name=\"exon_count\"))')\n",
    "if OUTPUT_MODE == \"file\":\n",
    "    results_file.write(f\"Time taken to count exons using pyranges is {time}\\n\")\n",
    "else:\n",
    "    print(f\"Time taken to count exons using pyranges is {time}\")"
   ]
  },
  {
   "cell_type": "code",
   "execution_count": 7,
   "metadata": {},
   "outputs": [
    {
     "name": "stdout",
     "output_type": "stream",
     "text": [
      "44 s ± 32.8 ms per loop (mean ± std. dev. of 7 runs, 1 loop each)\n"
     ]
    }
   ],
   "source": [
    "# # Using gffutils\n",
    "# def exon_counts_gffutls():\n",
    "#     # Iterate over all genes and count their exons\n",
    "#     exon_counts = {}\n",
    "#     for gene in human_db.features_of_type(\"gene\"):\n",
    "#         # Efficiently count exons for each gene using the `children` method\n",
    "#         exon_counts[gene.id] = sum(\n",
    "#             1 for _ in human_db.children(gene, featuretype=\"exon\")\n",
    "#     )\n",
    "#     return exon_counts\n",
    "# %timeit exon_counts_gff = exon_counts_gffutls()"
   ]
  },
  {
   "cell_type": "code",
   "execution_count": null,
   "metadata": {},
   "outputs": [
    {
     "name": "stdout",
     "output_type": "stream",
     "text": [
      "2.38 s ± 133 ms per loop (mean ± std. dev. of 7 runs, 1 loop each)\n"
     ]
    }
   ],
   "source": [
    "# Using sql\n",
    "time = get_ipython().run_line_magic(\"timeit\",'-o exon_counts_sql = pd.read_sql_query(\"SELECT gene_id, COUNT(*) as exon_count FROM human WHERE Feature = \\'exon\\' GROUP BY gene_id\", conn)')\n",
    "if OUTPUT_MODE == \"file\":\n",
    "    results_file.write(f\"Time taken to count exons using sql is {time}\\n\")\n",
    "else:\n",
    "    print(f\"Time taken to count exons using sql is {time}\")"
   ]
  },
  {
   "cell_type": "code",
   "execution_count": 7,
   "metadata": {},
   "outputs": [
    {
     "name": "stdout",
     "output_type": "stream",
     "text": [
      "exon counts are not identical\n"
     ]
    }
   ],
   "source": [
    "# check if exon_counts_pr and exon_counts_sql are identical\n",
    "exon_counts_pr = (human_gr[human_gr.Feature == \"exon\"].df.groupby(\"gene_id\").size().reset_index(name=\"exon_count\"))\n",
    "exon_counts_sql = pd.read_sql_query(\"SELECT gene_id, COUNT(*) as exon_count FROM human WHERE Feature = 'exon' GROUP BY gene_id\", conn)\n",
    "exon_counts_sql[\"exon_count\"] = exon_counts_sql[\"exon_count\"].astype(int)\n",
    "exon_counts_pr[\"exon_count\"] = exon_counts_pr[\"exon_count\"].astype(int)\n",
    "if exon_counts_sql.equals(exon_counts_pr):\n",
    "    result_text = \"exon counts are identical\"\n",
    "else:\n",
    "    result_text = \"exon counts are not identical\"\n",
    "if OUTPUT_MODE == \"file\":\n",
    "    results_file.write(f\"{result_text}\\n\")\n",
    "else:\n",
    "    print(result_text)"
   ]
  },
  {
   "cell_type": "code",
   "execution_count": null,
   "metadata": {},
   "outputs": [
    {
     "name": "stdout",
     "output_type": "stream",
     "text": [
      "5.77 s ± 56.9 ms per loop (mean ± std. dev. of 7 runs, 1 loop each)\n"
     ]
    }
   ],
   "source": [
    "# Using pyranges\n",
    "time = get_ipython().run_line_magic(\"timeit\",'-o exon_lengths_pr = (human_gr[human_gr.Feature == \"exon\"].df.assign(length=lambda df: df[\"End\"] - df[\"Start\"]).groupby(\"gene_id\")[\"length\"].sum().reset_index(name=\"total_exon_length\"))')\n",
    "if OUTPUT_MODE == \"file\":\n",
    "    results_file.write(f\"Time taken to calculate total exon length using pyranges is {time}\\n\")\n",
    "else:\n",
    "    print(f\"Time taken to calculate total exon length using pyranges is {time}\")"
   ]
  },
  {
   "cell_type": "code",
   "execution_count": 10,
   "metadata": {},
   "outputs": [
    {
     "name": "stdout",
     "output_type": "stream",
     "text": [
      "43.8 s ± 80.5 ms per loop (mean ± std. dev. of 7 runs, 1 loop each)\n"
     ]
    }
   ],
   "source": [
    "# # Using gffutils\n",
    "# def exon_lengths_gffutls():\n",
    "#     # Dictionary to store total exon length per gene\n",
    "#     exon_lengths = {}\n",
    "#     # Iterate over all genes and calculate total exon length\n",
    "#     for gene in human_db.features_of_type(\"gene\"):\n",
    "#         # Compute total exon length for each gene\n",
    "#         exon_lengths[gene.id] = sum(\n",
    "#             (child.end - child.start + 1)\n",
    "#             for child in human_db.children(gene, featuretype=\"exon\")\n",
    "#         )\n",
    "#     return exon_lengths\n",
    "# %timeit exon_lengths_gff = exon_lengths_gffutls()"
   ]
  },
  {
   "cell_type": "code",
   "execution_count": null,
   "metadata": {},
   "outputs": [
    {
     "name": "stdout",
     "output_type": "stream",
     "text": [
      "1.59 s ± 15.7 ms per loop (mean ± std. dev. of 7 runs, 1 loop each)\n"
     ]
    }
   ],
   "source": [
    "# using sql\n",
    "time = get_ipython().run_line_magic(\"timeit\",'-o exon_lengths_sql = pd.read_sql_query(\"SELECT gene_id, SUM(End - Start) as total_exon_length FROM human WHERE Feature = \\'exon\\' GROUP BY gene_id\", conn)')\n",
    "if OUTPUT_MODE == \"file\":\n",
    "    results_file.write(f\"Time taken to calculate total exon length using sql is {time}\\n\")\n",
    "else:\n",
    "    print(f\"Time taken to calculate total exon length using sql is {time}\")"
   ]
  },
  {
   "cell_type": "code",
   "execution_count": null,
   "metadata": {},
   "outputs": [
    {
     "data": {
      "text/plain": [
       "True"
      ]
     },
     "execution_count": 12,
     "metadata": {},
     "output_type": "execute_result"
    }
   ],
   "source": [
    "# check if exon_lengths_pr and exon_lengths_sql are identical\n",
    "exon_lengths_pr = (human_gr[human_gr.Feature == \"exon\"].df.assign(length=lambda df: df[\"End\"] - df[\"Start\"]).groupby(\"gene_id\")[\"length\"].sum().reset_index(name=\"total_exon_length\"))\n",
    "exon_lengths_sql = pd.read_sql_query(\"SELECT gene_id, SUM(End - Start) as total_exon_length FROM human WHERE Feature = 'exon' GROUP BY gene_id\", conn)\n",
    "exon_lengths_sql[\"total_exon_length\"] = exon_lengths_sql[\"total_exon_length\"].astype(int)\n",
    "exon_lengths_pr[\"total_exon_length\"] = exon_lengths_pr[\"total_exon_length\"].astype(int)\n",
    "if exon_lengths_sql.equals(exon_lengths_pr):\n",
    "    results_text = \"exon lengths are identical\"\n",
    "else:\n",
    "    results_text = \"exon lengths are not identical\"\n",
    "if OUTPUT_MODE == \"file\":\n",
    "    results_file.write(f\"{results_text}\\n\")\n",
    "else:\n",
    "    print(results_text)"
   ]
  },
  {
   "cell_type": "markdown",
   "metadata": {},
   "source": [
    "### Aggregate Query 3: Identify the chromosome with the highest number of transcripts"
   ]
  },
  {
   "cell_type": "code",
   "execution_count": null,
   "metadata": {},
   "outputs": [
    {
     "name": "stdout",
     "output_type": "stream",
     "text": [
      "953 ms ± 23.2 ms per loop (mean ± std. dev. of 7 runs, 1 loop each)\n"
     ]
    }
   ],
   "source": [
    "# Using pyranges\n",
    "time = get_ipython().run_line_magic(\"timeit\",'-o transcript_counts_pr = human_gr[human_gr.Feature == \"transcript\"].df[\"Chromosome\"].value_counts().idxmax()')\n",
    "if OUTPUT_MODE == \"file\":\n",
    "    results_file.write(f\"Time taken to find chromosome with most transcripts using pyranges is {time}\\n\")\n",
    "else:\n",
    "    print(f\"Time taken to find chromosome with most transcripts using pyranges is {time}\")"
   ]
  },
  {
   "cell_type": "code",
   "execution_count": 13,
   "metadata": {},
   "outputs": [
    {
     "name": "stdout",
     "output_type": "stream",
     "text": [
      "5.52 s ± 31.1 ms per loop (mean ± std. dev. of 7 runs, 1 loop each)\n"
     ]
    }
   ],
   "source": [
    "# # Using gffutils\n",
    "# def transcript_counts_gffutls():\n",
    "#     # Dictionary to store the number of transcripts per chromosome\n",
    "#     transcript_counts = {}\n",
    "#     # Iterate over all transcripts and count the number of transcripts per chromosome\n",
    "#     for transcript in human_db.features_of_type(\"transcript\"):\n",
    "#         chrom = transcript.chrom\n",
    "#         if chrom not in transcript_counts:\n",
    "#             transcript_counts[chrom] = 0\n",
    "#         transcript_counts[chrom] += 1\n",
    "#     return max(transcript_counts, key=transcript_counts.get)\n",
    "# %timeit transcript_counts_gff = transcript_counts_gffutls()"
   ]
  },
  {
   "cell_type": "code",
   "execution_count": null,
   "metadata": {},
   "outputs": [
    {
     "name": "stdout",
     "output_type": "stream",
     "text": [
      "531 ms ± 2.61 ms per loop (mean ± std. dev. of 7 runs, 1 loop each)\n"
     ]
    }
   ],
   "source": [
    "# using sql\n",
    "time = get_ipython().run_line_magic(\"timeit\",'-o transcript_counts_sql = pd.read_sql_query(\"SELECT Chromosome, COUNT(*) as transcript_count FROM human WHERE Feature = \\'transcript\\' GROUP BY Chromosome ORDER BY transcript_count DESC LIMIT 1\", conn)')\n",
    "if OUTPUT_MODE == \"file\":\n",
    "    results_file.write(f\"Time taken to find chromosome with most transcripts using sql is {time}\\n\")\n",
    "else:\n",
    "    print(f\"Time taken to find chromosome with most transcripts using sql is {time}\")"
   ]
  },
  {
   "cell_type": "code",
   "execution_count": null,
   "metadata": {},
   "outputs": [
    {
     "data": {
      "text/plain": [
       "True"
      ]
     },
     "execution_count": 11,
     "metadata": {},
     "output_type": "execute_result"
    }
   ],
   "source": [
    "# verify if transcript_counts_pr and transcript_counts_sql are identical\n",
    "transcript_counts_pr = human_gr2[human_gr2.Feature == \"transcript\"].df[\"Chromosome\"].value_counts().idxmax()\n",
    "transcript_counts_sql = pd.read_sql_query(\"SELECT Chromosome, COUNT(*) as transcript_count FROM human WHERE Feature = 'transcript' GROUP BY Chromosome ORDER BY transcript_count DESC LIMIT 1\", conn)\n",
    "if transcript_counts_pr == transcript_counts_sql[\"Chromosome\"].values[0]:\n",
    "    results_text = \"transcript counts are identical\"\n",
    "else:\n",
    "    results_text = \"transcript counts are not identical\"\n",
    "if OUTPUT_MODE == \"file\":\n",
    "    results_file.write(f\"{results_text}\\n\")\n",
    "else:\n",
    "    print(results_text)"
   ]
  },
  {
   "cell_type": "markdown",
   "metadata": {},
   "source": [
    "# Interval Arithmetic\n",
    "### Query 1: Merging Overlapping Exon Intervals"
   ]
  },
  {
   "cell_type": "code",
   "execution_count": null,
   "metadata": {},
   "outputs": [
    {
     "name": "stdout",
     "output_type": "stream",
     "text": [
      "5.48 s ± 383 ms per loop (mean ± std. dev. of 7 runs, 1 loop each)\n",
      "Time taken to merge exons using pyranges is 5.48 s ± 383 ms per loop (mean ± std. dev. of 7 runs, 1 loop each)\n"
     ]
    }
   ],
   "source": [
    "# Using pyranges\n",
    "time = get_ipython().run_line_magic(\"timeit\",'-o exon_intervals_pr = human_gr[human_gr.Feature == \"exon\"].merge(strand=True)')\n",
    "if OUTPUT_MODE == \"file\":\n",
    "    results_file.write(f\"Time taken to merge exons using pyranges is {time}\\n\")\n",
    "else:\n",
    "    print(f\"Time taken to merge exons using pyranges is {time}\")"
   ]
  },
  {
   "cell_type": "code",
   "execution_count": null,
   "metadata": {},
   "outputs": [],
   "source": [
    "# # using gffutils TODO: run\n",
    "# def exon_intervals_gffutls():\n",
    "#     exon_intervals = [\n",
    "#         gffutils.helpers.asinterval(exon) for exon in human_db.features_of_type(\"exon\")\n",
    "#     ]\n",
    "#     exon_intervals_sorted = sorted(exon_intervals, key=lambda x: (x.chrom, x.start))\n",
    "#     # Use pybedtools to merge overlapping intervals\n",
    "#     return pybedtools.BedTool(exon_intervals_sorted).merge()\n",
    "# %timeit exon_intervals_gff = exon_intervals_gffutls()"
   ]
  },
  {
   "cell_type": "code",
   "execution_count": 75,
   "metadata": {},
   "outputs": [],
   "source": [
    "# using sql\n",
    "def get_exon_intervals_sql(chrom_strand):\n",
    "    chrom, strand = chrom_strand\n",
    "    exon_intervals_sql = pd.read_sql_query(f\"SELECT Start, End FROM human WHERE Feature = 'exon' AND Chromosome = '{chrom}' AND Strand = '{strand}'\", conn)\n",
    "    exon_intervals_sql = pr.methods.merge._merge(exon_intervals_sql, chromosome=chrom, count=None, strand=strand)\n",
    "    return exon_intervals_sql\n",
    "\n",
    "def get_exon_intervals_sql_multi():\n",
    "    chrom_strand_tup = pd.read_sql_query(\"SELECT DISTINCT Chromosome, Strand FROM human\", conn)\n",
    "    chrom_strand_tup = list(zip(chrom_strand_tup[\"Chromosome\"], chrom_strand_tup[\"Strand\"]))\n",
    "    with Pool(8) as p:\n",
    "        exon_intervals_sql = p.map(get_exon_intervals_sql, chrom_strand_tup)\n",
    "    exon_intervals_sql = pd.concat(exon_intervals_sql).sort_values([\"Chromosome\", \"Strand\", \"Start\", \"End\"]).reset_index(drop=True)\n",
    "    return exon_intervals_sql"
   ]
  },
  {
   "cell_type": "code",
   "execution_count": null,
   "metadata": {},
   "outputs": [
    {
     "name": "stdout",
     "output_type": "stream",
     "text": [
      "4.07 s ± 101 ms per loop (mean ± std. dev. of 7 runs, 1 loop each)\n",
      "Time taken to merge exons using sql is 4.07 s ± 101 ms per loop (mean ± std. dev. of 7 runs, 1 loop each)\n"
     ]
    }
   ],
   "source": [
    "time = get_ipython().run_line_magic(\"timeit\",'-o exon_intervals_sql = get_exon_intervals_sql_multi()')\n",
    "if OUTPUT_MODE == \"file\":\n",
    "    results_file.write(f\"Time taken to merge exons using sql is {time}\\n\")\n",
    "else:\n",
    "    print(f\"Time taken to merge exons using sql is {time}\")"
   ]
  },
  {
   "cell_type": "code",
   "execution_count": null,
   "metadata": {},
   "outputs": [
    {
     "name": "stdout",
     "output_type": "stream",
     "text": [
      "exon intervals are identical\n"
     ]
    }
   ],
   "source": [
    "# check if exon_intervals_pr and exon_intervals_sql are identical\n",
    "exon_intervals_pr = human_gr[human_gr.Feature == \"exon\"].merge(strand=True).df.sort_values([\"Chromosome\", \"Strand\", \"Start\", \"End\"]).reset_index(drop=True)\n",
    "exon_intervals_sql = get_exon_intervals_sql_multi()\n",
    "if exon_intervals_pr.equals(exon_intervals_sql):\n",
    "    results_text = \"exon intervals are identical\"\n",
    "else:\n",
    "    results_text = \"exon intervals are not identical\"\n",
    "if OUTPUT_MODE == \"file\":\n",
    "    results_file.write(f\"{results_text}\\n\")\n",
    "else:\n",
    "    print(results_text)"
   ]
  },
  {
   "cell_type": "markdown",
   "metadata": {},
   "source": [
    "### Query 2: Finding Overlaps with a Specific Interval\n",
    "Find all gene features that overlap a given interval chr1:100000-200000 + strand"
   ]
  },
  {
   "cell_type": "code",
   "execution_count": null,
   "metadata": {},
   "outputs": [
    {
     "name": "stdout",
     "output_type": "stream",
     "text": [
      "1.03 s ± 42 ms per loop (mean ± std. dev. of 7 runs, 1 loop each)\n",
      "Time taken to find overlapping genes using pyranges is 1.03 s ± 42 ms per loop (mean ± std. dev. of 7 runs, 1 loop each)\n"
     ]
    }
   ],
   "source": [
    "# Using pyranges\n",
    "time = get_ipython().run_line_magic(\"timeit\",'-o overlapping_genes_pr = human_gr[human_gr.Feature == \"gene\"].overlap(pr.from_dict({\"Chromosome\": [\"1\"], \"Start\": [100000], \"End\": [200000], \"Strand\": [\"+\"]}), strandedness=\"same\")')\n",
    "if OUTPUT_MODE == \"file\":\n",
    "    results_file.write(f\"Time taken to find overlapping genes using pyranges is {time}\\n\")\n",
    "else:\n",
    "    print(f\"Time taken to find overlapping genes using pyranges is {time}\")"
   ]
  },
  {
   "cell_type": "code",
   "execution_count": 144,
   "metadata": {},
   "outputs": [
    {
     "name": "stdout",
     "output_type": "stream",
     "text": [
      "1min 29s ± 414 ms per loop (mean ± std. dev. of 7 runs, 1 loop each)\n"
     ]
    }
   ],
   "source": [
    "# # using gffutils TODO: run\n",
    "# def overlapping_genes_gffutls():\n",
    "#     exon_intervals_overlapping = pybedtools.BedTool.from_dataframe(pd.DataFrame({\"Chromosome\": [\"1\"], \"Start\": [100000], \"End\": [200000]}))\n",
    "#     exon_intervals = [\n",
    "#         gffutils.helpers.asinterval(exon) for exon in human_db.features_of_type(\"exon\")\n",
    "#     ]\n",
    "#     exon_intervals_sorted = sorted(exon_intervals, key=lambda x: (x.chrom, x.start))\n",
    "#     # Use pybedtools to merge overlapping intervals\n",
    "#     return exon_intervals_overlapping.window(pybedtools.BedTool(exon_intervals_sorted).merge(), w=0)\n",
    "# %timeit overlapping_genes_gff = overlapping_genes_gffutls()"
   ]
  },
  {
   "cell_type": "code",
   "execution_count": 118,
   "metadata": {},
   "outputs": [],
   "source": [
    "# using sql\n",
    "other_genes_all = pd.DataFrame({\"Chromosome\": [\"1\"], \"Start\": [100000], \"End\": [200000], \"Strand\": [\"+\"]})\n",
    "def get_overlapping_genes_sql(chrom_strand):\n",
    "    chrom, strand = chrom_strand\n",
    "    self_genes_sql = pd.read_sql_query(f\"SELECT * FROM human WHERE Feature = 'gene' AND Chromosome = '{chrom}' AND Strand = '{strand}'\", conn)\n",
    "    other_genes = other_genes_all[(other_genes_all[\"Chromosome\"] == chrom) & (other_genes_all[\"Strand\"] == strand)]\n",
    "    overlapping_genes_sql = pr.methods.intersection._overlap(self_genes_sql, other_genes, how=\"first\")\n",
    "    return overlapping_genes_sql\n",
    "\n",
    "def get_overlapping_genes_sql_multi():\n",
    "    chrom_strand_tup = pd.read_sql_query(\"SELECT DISTINCT Chromosome, Strand FROM human\", conn)\n",
    "    chrom_strand_tup = list(zip(chrom_strand_tup[\"Chromosome\"], chrom_strand_tup[\"Strand\"]))\n",
    "    with Pool(8) as p:\n",
    "        overlapping_genes_sql = p.map(get_overlapping_genes_sql, chrom_strand_tup)\n",
    "    overlapping_genes_sql = pd.concat(overlapping_genes_sql) #.sort_values([\"Chromosome\", \"Strand\", \"Start\", \"End\"]).reset_index(drop=True)\n",
    "    return overlapping_genes_sql"
   ]
  },
  {
   "cell_type": "code",
   "execution_count": null,
   "metadata": {},
   "outputs": [
    {
     "name": "stdout",
     "output_type": "stream",
     "text": [
      "2.29 s ± 190 ms per loop (mean ± std. dev. of 7 runs, 1 loop each)\n",
      "Time taken to find overlapping genes using sql is 2.29 s ± 190 ms per loop (mean ± std. dev. of 7 runs, 1 loop each)\n"
     ]
    }
   ],
   "source": [
    "time = get_ipython().run_line_magic(\"timeit\",'-o overlapping_genes_sql = get_overlapping_genes_sql_multi()')\n",
    "if OUTPUT_MODE == \"file\":\n",
    "    results_file.write(f\"Time taken to find overlapping genes using sql is {time}\\n\")\n",
    "else:\n",
    "    print(f\"Time taken to find overlapping genes using sql is {time}\")"
   ]
  },
  {
   "cell_type": "code",
   "execution_count": null,
   "metadata": {},
   "outputs": [
    {
     "name": "stdout",
     "output_type": "stream",
     "text": [
      "overlapping genes are identical\n"
     ]
    }
   ],
   "source": [
    "# check if overlapping_genes_pr and overlapping_genes_sql are identical\n",
    "overlapping_genes_pr = human_gr[human_gr.Feature == \"gene\"].overlap(pr.from_dict({\"Chromosome\": [\"1\"], \"Start\": [100000], \"End\": [200000], \"Strand\": [\"+\"]}), strandedness=\"same\")\n",
    "overlapping_genes_sql = get_overlapping_genes_sql_multi()\n",
    "overlapping_genes_sql = overlapping_genes_sql.sort_values([\"Chromosome\", \"Strand\", \"Start\", \"End\"]).reset_index(drop=True)\n",
    "overlapping_genes_pr = overlapping_genes_pr.df.sort_values([\"Chromosome\", \"Strand\", \"Start\", \"End\"]).reset_index(drop=True)\n",
    "diff = overlapping_genes_pr.compare(overlapping_genes_sql)\n",
    "if diff.empty:\n",
    "    results_text = \"overlapping genes are identical\"\n",
    "else:\n",
    "    results_text = \"overlapping genes are not identical\"\n",
    "if OUTPUT_MODE == \"file\":\n",
    "    results_file.write(f\"{results_text}\\n\")\n",
    "else:\n",
    "    print(results_text)"
   ]
  },
  {
   "cell_type": "markdown",
   "metadata": {},
   "source": [
    "### Query 3: Subtracting Intervals\n",
    "Remove a set of repetitive regions from the exon features.\n",
    "\n",
    "chr1:15M-16M,20M-21M"
   ]
  },
  {
   "cell_type": "code",
   "execution_count": null,
   "metadata": {},
   "outputs": [
    {
     "name": "stdout",
     "output_type": "stream",
     "text": [
      "4.38 s ± 74.8 ms per loop (mean ± std. dev. of 7 runs, 1 loop each)\n"
     ]
    }
   ],
   "source": [
    "# # Using pyranges\n",
    "# %timeit subtracted_intervals_pr = human_gr[human_gr.Feature == \"exon\"].merge(strand=False).subtract(pr.from_dict({\"Chromosome\": [\"1\", \"1\"],\"Start\": [15000000, 20000000],\"End\": [16000000, 21000000],}))"
   ]
  },
  {
   "cell_type": "code",
   "execution_count": 145,
   "metadata": {},
   "outputs": [
    {
     "name": "stdout",
     "output_type": "stream",
     "text": [
      "1min 28s ± 441 ms per loop (mean ± std. dev. of 7 runs, 1 loop each)\n"
     ]
    }
   ],
   "source": [
    "# # using gffutils TODO: run\n",
    "# def subtracted_intervals_gffutls():\n",
    "#     exon_intervals_subtract = pybedtools.BedTool.from_dataframe(pd.DataFrame({\"Chromosome\": [\"1\", \"1\"], \"Start\": [15000000, 20000000], \"End\": [16000000, 21000000]}))\n",
    "#     exon_intervals = [\n",
    "#         gffutils.helpers.asinterval(exon) for exon in human_db.features_of_type(\"exon\")\n",
    "#     ]\n",
    "#     exon_intervals_sorted = sorted(exon_intervals, key=lambda x: (x.chrom, x.start))\n",
    "#     # Use pybedtools to merge overlapping intervals\n",
    "#     return pybedtools.BedTool(exon_intervals_sorted).merge().subtract(exon_intervals_subtract)\n",
    "# %timeit overlapping_genes_gff = overlapping_genes_gffutls()"
   ]
  },
  {
   "cell_type": "code",
   "execution_count": 142,
   "metadata": {},
   "outputs": [
    {
     "name": "stdout",
     "output_type": "stream",
     "text": [
      "7.28 s ± 37.2 ms per loop (mean ± std. dev. of 7 runs, 1 loop each)\n"
     ]
    }
   ],
   "source": [
    "# # using sql\n",
    "# def find_subtracted_intervals_sql():\n",
    "#     exon_intervals_subtract = pybedtools.BedTool.from_dataframe(pd.DataFrame({\"Chromosome\": [\"1\", \"1\"], \"Start\": [15000000, 20000000], \"End\": [16000000, 21000000]}))\n",
    "#     exon_intervals = pd.read_sql_query(\"SELECT Chromosome, Start, End FROM human WHERE Feature = 'exon' ORDER BY Chromosome, Start\", conn)\n",
    "#     # Use pybedtools to merge overlapping intervals\n",
    "#     return pybedtools.BedTool.from_dataframe(exon_intervals).merge().subtract(exon_intervals_subtract)\n",
    "# %timeit subtracted_intervals_sql = find_subtracted_intervals_sql()"
   ]
  },
  {
   "cell_type": "code",
   "execution_count": null,
   "metadata": {},
   "outputs": [],
   "source": [
    "results_file.close()\n",
    "conn.close()"
   ]
  }
 ],
 "metadata": {
  "kernelspec": {
   "display_name": ".venv",
   "language": "python",
   "name": "python3"
  },
  "language_info": {
   "codemirror_mode": {
    "name": "ipython",
    "version": 3
   },
   "file_extension": ".py",
   "mimetype": "text/x-python",
   "name": "python",
   "nbconvert_exporter": "python",
   "pygments_lexer": "ipython3",
   "version": "3.12.3"
  }
 },
 "nbformat": 4,
 "nbformat_minor": 2
}
