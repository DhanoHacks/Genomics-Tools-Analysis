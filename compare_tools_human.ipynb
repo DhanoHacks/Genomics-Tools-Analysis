{
 "cells": [
  {
   "cell_type": "code",
   "execution_count": 1,
   "metadata": {},
   "outputs": [],
   "source": [
    "import pyranges as pr\n",
    "import pandas as pd\n",
    "import numpy as np\n",
    "import sqlite3\n",
    "import gffutils\n",
    "import time\n",
    "import pybedtools\n",
    "import os\n",
    "from IPython import get_ipython"
   ]
  },
  {
   "cell_type": "code",
   "execution_count": 2,
   "metadata": {},
   "outputs": [],
   "source": [
    "gtf_file_name = \"Homo_sapiens.GRCh38.112.chr.gtf\"\n",
    "# gtf_file_name = \"/home/U210050044/data/DH607-project/Homo_sapiens.GRCh38.112.chr.gtf\"\n",
    "sql_db_name = \"db.sqlite3\"\n",
    "results_file_name = \"results_human.txt\""
   ]
  },
  {
   "cell_type": "code",
   "execution_count": null,
   "metadata": {},
   "outputs": [],
   "source": [
    "results_file = open(results_file_name,\"w\")"
   ]
  },
  {
   "cell_type": "code",
   "execution_count": null,
   "metadata": {},
   "outputs": [
    {
     "name": "stdout",
     "output_type": "stream",
     "text": [
      "Finished reading into pyranges object in time 136.18221592903137\n"
     ]
    }
   ],
   "source": [
    "start_time = time.time()\n",
    "human_gr = pr.read_gtf(gtf_file_name)\n",
    "end_time = time.time()\n",
    "results_file.write(f\"Finished reading into pyranges object in time {end_time-start_time}\\n\")"
   ]
  },
  {
   "cell_type": "code",
   "execution_count": 6,
   "metadata": {},
   "outputs": [
    {
     "name": "stdout",
     "output_type": "stream",
     "text": [
      "Finished converting gtf to sql db in time 460.73711919784546\n"
     ]
    }
   ],
   "source": [
    "# start_time = time.time()\n",
    "# human_db = gffutils.create_db(\"/home/U210050044/data/DH607-project/Homo_sapiens.GRCh38.112.chr.gtf\",\"/home/U210050044/data/DH607-project/human_db.sqlite3\",disable_infer_genes=True,disable_infer_transcripts=True, force=True)\n",
    "# end_time = time.time()\n",
    "# print(f\"Finished converting gtf to sql db in time {end_time-start_time}\")"
   ]
  },
  {
   "cell_type": "code",
   "execution_count": 7,
   "metadata": {},
   "outputs": [],
   "source": [
    "# # Open the database\n",
    "# human_db = gffutils.FeatureDB(\"/home/U210050044/data/DH607-project/human_db.sqlite3\")"
   ]
  },
  {
   "cell_type": "code",
   "execution_count": 8,
   "metadata": {},
   "outputs": [
    {
     "name": "stdout",
     "output_type": "stream",
     "text": [
      "Converted Pyranges object to in-memory sql db in time 50.461308002471924\n"
     ]
    }
   ],
   "source": [
    "os.system(\"g++ gtf_to_sql.cpp -lsqlite3\")\n",
    "start_time = time.time()\n",
    "os.system(f\"./a.out {sql_db_name} human {gtf_file_name} 8\")\n",
    "end_time = time.time()\n",
    "results_file.write(f\"Finished reading into sql file in time {end_time-start_time}\\n\")"
   ]
  },
  {
   "cell_type": "code",
   "execution_count": 3,
   "metadata": {},
   "outputs": [],
   "source": [
    "conn = sqlite3.connect(sql_db_name)\n",
    "cur = conn.cursor()"
   ]
  },
  {
   "cell_type": "code",
   "execution_count": 4,
   "metadata": {},
   "outputs": [
    {
     "name": "stdout",
     "output_type": "stream",
     "text": [
      "Finished reading from sql to pyranges in time 66.74821639060974\n"
     ]
    }
   ],
   "source": [
    "start_time = time.time()\n",
    "human_gr2 = pr.PyRanges(pd.read_sql(\"SELECT * FROM human\", conn))\n",
    "end_time = time.time()\n",
    "results_file.write(f\"Finished reading from sql to pyranges in time {end_time-start_time}\\n\")"
   ]
  },
  {
   "cell_type": "markdown",
   "metadata": {},
   "source": [
    "# Aggregate Queries: Counting transcripts, calculating exon lengths, and grouping features\n",
    "### Aggregate Query 1: Count the number of exons for each gene"
   ]
  },
  {
   "cell_type": "code",
   "execution_count": null,
   "metadata": {},
   "outputs": [
    {
     "name": "stdout",
     "output_type": "stream",
     "text": [
      "5.12 s ± 108 ms per loop (mean ± std. dev. of 7 runs, 1 loop each)\n"
     ]
    }
   ],
   "source": [
    "# Using pyranges\n",
    "time = get_ipython().run_line_magic(\"timeit\",'-o (human_gr[human_gr.Feature == \"exon\"].df.groupby(\"gene_id\").size().reset_index(name=\"exon_count\"))')\n",
    "results_file.write(f\"Time taken to count exons using pyranges is {time}\\n\")"
   ]
  },
  {
   "cell_type": "code",
   "execution_count": 7,
   "metadata": {},
   "outputs": [
    {
     "name": "stdout",
     "output_type": "stream",
     "text": [
      "44 s ± 32.8 ms per loop (mean ± std. dev. of 7 runs, 1 loop each)\n"
     ]
    }
   ],
   "source": [
    "# # Using gffutils\n",
    "# def exon_counts_gffutls():\n",
    "#     # Iterate over all genes and count their exons\n",
    "#     exon_counts = {}\n",
    "#     for gene in human_db.features_of_type(\"gene\"):\n",
    "#         # Efficiently count exons for each gene using the `children` method\n",
    "#         exon_counts[gene.id] = sum(\n",
    "#             1 for _ in human_db.children(gene, featuretype=\"exon\")\n",
    "#     )\n",
    "#     return exon_counts\n",
    "# %timeit exon_counts_gff = exon_counts_gffutls()"
   ]
  },
  {
   "cell_type": "code",
   "execution_count": 7,
   "metadata": {},
   "outputs": [
    {
     "name": "stdout",
     "output_type": "stream",
     "text": [
      "2.38 s ± 133 ms per loop (mean ± std. dev. of 7 runs, 1 loop each)\n"
     ]
    }
   ],
   "source": [
    "# Using sql\n",
    "time = get_ipython().run_line_magic(\"timeit\",'-o exon_counts_sql = pd.read_sql_query(\"SELECT gene_id, COUNT(*) as exon_count FROM human WHERE Feature = \\'exon\\' GROUP BY gene_id\", conn)')\n",
    "results_file.write(f\"Time taken to count exons using sql is {time}\\n\")"
   ]
  },
  {
   "cell_type": "code",
   "execution_count": 13,
   "metadata": {},
   "outputs": [
    {
     "data": {
      "text/plain": [
       "True"
      ]
     },
     "execution_count": 13,
     "metadata": {},
     "output_type": "execute_result"
    }
   ],
   "source": [
    "# check if exon_counts_pr and exon_counts_sql are identical\n",
    "exon_counts_pr = (human_gr[human_gr.Feature == \"exon\"].df.groupby(\"gene_id\").size().reset_index(name=\"exon_count\"))\n",
    "exon_counts_sql = pd.read_sql_query(\"SELECT gene_id, COUNT(*) as exon_count FROM human WHERE Feature = 'exon' GROUP BY gene_id\", conn)\n",
    "exon_counts_sql[\"exon_count\"] = exon_counts_sql[\"exon_count\"].astype(int)\n",
    "exon_counts_pr[\"exon_count\"] = exon_counts_pr[\"exon_count\"].astype(int)\n",
    "if exon_counts_sql.equals(exon_counts_pr):\n",
    "    results_file.write(\"exon counts are identical\\n\")\n",
    "else:\n",
    "    results_file.write(\"exon counts are not identical\\n\")"
   ]
  },
  {
   "cell_type": "markdown",
   "metadata": {},
   "source": [
    "### Aggregate Query 2: Calculate the total length of exons for each gene"
   ]
  },
  {
   "cell_type": "code",
   "execution_count": null,
   "metadata": {},
   "outputs": [
    {
     "name": "stdout",
     "output_type": "stream",
     "text": [
      "5.77 s ± 56.9 ms per loop (mean ± std. dev. of 7 runs, 1 loop each)\n"
     ]
    }
   ],
   "source": [
    "# Using pyranges\n",
    "time = get_ipython().run_line_magic(\"timeit\",'-o exon_lengths_pr = (human_gr[human_gr.Feature == \"exon\"].df.assign(length=lambda df: df[\"End\"] - df[\"Start\"]).groupby(\"gene_id\")[\"length\"].sum().reset_index(name=\"total_exon_length\"))')\n",
    "results_file.write(f\"Time taken to calculate total exon length using pyranges is {time}\\n\")"
   ]
  },
  {
   "cell_type": "code",
   "execution_count": 10,
   "metadata": {},
   "outputs": [
    {
     "name": "stdout",
     "output_type": "stream",
     "text": [
      "43.8 s ± 80.5 ms per loop (mean ± std. dev. of 7 runs, 1 loop each)\n"
     ]
    }
   ],
   "source": [
    "# # Using gffutils\n",
    "# def exon_lengths_gffutls():\n",
    "#     # Dictionary to store total exon length per gene\n",
    "#     exon_lengths = {}\n",
    "#     # Iterate over all genes and calculate total exon length\n",
    "#     for gene in human_db.features_of_type(\"gene\"):\n",
    "#         # Compute total exon length for each gene\n",
    "#         exon_lengths[gene.id] = sum(\n",
    "#             (child.end - child.start + 1)\n",
    "#             for child in human_db.children(gene, featuretype=\"exon\")\n",
    "#         )\n",
    "#     return exon_lengths\n",
    "# %timeit exon_lengths_gff = exon_lengths_gffutls()"
   ]
  },
  {
   "cell_type": "code",
   "execution_count": 11,
   "metadata": {},
   "outputs": [
    {
     "name": "stdout",
     "output_type": "stream",
     "text": [
      "1.59 s ± 15.7 ms per loop (mean ± std. dev. of 7 runs, 1 loop each)\n"
     ]
    }
   ],
   "source": [
    "# using sql\n",
    "time = get_ipython().run_line_magic(\"timeit\",'-o exon_lengths_sql = pd.read_sql_query(\"SELECT gene_id, SUM(End - Start) as total_exon_length FROM human WHERE Feature = \\'exon\\' GROUP BY gene_id\", conn)')\n",
    "results_file.write(f\"Time taken to calculate total exon length using sql is {time}\\n\")"
   ]
  },
  {
   "cell_type": "code",
   "execution_count": null,
   "metadata": {},
   "outputs": [
    {
     "data": {
      "text/plain": [
       "True"
      ]
     },
     "execution_count": 12,
     "metadata": {},
     "output_type": "execute_result"
    }
   ],
   "source": [
    "# check if exon_lengths_pr and exon_lengths_sql are identical\n",
    "exon_lengths_pr = (human_gr[human_gr.Feature == \"exon\"].df.assign(length=lambda df: df[\"End\"] - df[\"Start\"]).groupby(\"gene_id\")[\"length\"].sum().reset_index(name=\"total_exon_length\"))\n",
    "exon_lengths_sql = pd.read_sql_query(\"SELECT gene_id, SUM(End - Start) as total_exon_length FROM human WHERE Feature = 'exon' GROUP BY gene_id\", conn)\n",
    "exon_lengths_sql[\"total_exon_length\"] = exon_lengths_sql[\"total_exon_length\"].astype(int)\n",
    "exon_lengths_pr[\"total_exon_length\"] = exon_lengths_pr[\"total_exon_length\"].astype(int)\n",
    "if exon_lengths_sql.equals(exon_lengths_pr):\n",
    "    results_file.write(\"exon lengths are identical\\n\")\n",
    "else:\n",
    "    results_file.write(\"exon lengths are not identical\\n\")"
   ]
  },
  {
   "cell_type": "markdown",
   "metadata": {},
   "source": [
    "### Aggregate Query 3: Identify the chromosome with the highest number of transcripts"
   ]
  },
  {
   "cell_type": "code",
   "execution_count": null,
   "metadata": {},
   "outputs": [
    {
     "name": "stdout",
     "output_type": "stream",
     "text": [
      "953 ms ± 23.2 ms per loop (mean ± std. dev. of 7 runs, 1 loop each)\n"
     ]
    }
   ],
   "source": [
    "# Using pyranges\n",
    "time = get_ipython().run_line_magic(\"timeit\",'-o transcript_counts_pr = human_gr[human_gr.Feature == \"transcript\"].df[\"Chromosome\"].value_counts().idxmax()')\n",
    "results_file.write(f\"Time taken to find chromosome with most transcripts using pyranges is {time}\\n\")"
   ]
  },
  {
   "cell_type": "code",
   "execution_count": 13,
   "metadata": {},
   "outputs": [
    {
     "name": "stdout",
     "output_type": "stream",
     "text": [
      "5.52 s ± 31.1 ms per loop (mean ± std. dev. of 7 runs, 1 loop each)\n"
     ]
    }
   ],
   "source": [
    "# # Using gffutils\n",
    "# def transcript_counts_gffutls():\n",
    "#     # Dictionary to store the number of transcripts per chromosome\n",
    "#     transcript_counts = {}\n",
    "#     # Iterate over all transcripts and count the number of transcripts per chromosome\n",
    "#     for transcript in human_db.features_of_type(\"transcript\"):\n",
    "#         chrom = transcript.chrom\n",
    "#         if chrom not in transcript_counts:\n",
    "#             transcript_counts[chrom] = 0\n",
    "#         transcript_counts[chrom] += 1\n",
    "#     return max(transcript_counts, key=transcript_counts.get)\n",
    "# %timeit transcript_counts_gff = transcript_counts_gffutls()"
   ]
  },
  {
   "cell_type": "code",
   "execution_count": 14,
   "metadata": {},
   "outputs": [
    {
     "name": "stdout",
     "output_type": "stream",
     "text": [
      "531 ms ± 2.61 ms per loop (mean ± std. dev. of 7 runs, 1 loop each)\n"
     ]
    }
   ],
   "source": [
    "# using sql\n",
    "time = get_ipython().run_line_magic(\"timeit\",'-o transcript_counts_sql = pd.read_sql_query(\"SELECT Chromosome, COUNT(*) as transcript_count FROM human WHERE Feature = \\'transcript\\' GROUP BY Chromosome ORDER BY transcript_count DESC LIMIT 1\", conn)')\n",
    "results_file.write(f\"Time taken to find chromosome with most transcripts using sql is {time}\\n\")"
   ]
  },
  {
   "cell_type": "code",
   "execution_count": 11,
   "metadata": {},
   "outputs": [
    {
     "data": {
      "text/plain": [
       "True"
      ]
     },
     "execution_count": 11,
     "metadata": {},
     "output_type": "execute_result"
    }
   ],
   "source": [
    "# verify if transcript_counts_pr and transcript_counts_sql are identical\n",
    "transcript_counts_pr = human_gr2[human_gr2.Feature == \"transcript\"].df[\"Chromosome\"].value_counts().idxmax()\n",
    "transcript_counts_sql = pd.read_sql_query(\"SELECT Chromosome, COUNT(*) as transcript_count FROM human WHERE Feature = 'transcript' GROUP BY Chromosome ORDER BY transcript_count DESC LIMIT 1\", conn)\n",
    "if transcript_counts_pr == transcript_counts_sql[\"Chromosome\"].values[0]:\n",
    "    results_file.write(\"transcript counts are identical\\n\")\n",
    "else:\n",
    "    results_file.write(\"transcript counts are not identical\\n\")"
   ]
  },
  {
   "cell_type": "code",
   "execution_count": null,
   "metadata": {},
   "outputs": [],
   "source": [
    "results_file.close()"
   ]
  },
  {
   "cell_type": "markdown",
   "metadata": {},
   "source": [
    "# Interval Arithmetic\n",
    "### Query 1: Merging Overlapping Exon Intervals"
   ]
  },
  {
   "cell_type": "code",
   "execution_count": null,
   "metadata": {},
   "outputs": [
    {
     "name": "stdout",
     "output_type": "stream",
     "text": [
      "1.76 s ± 57.8 ms per loop (mean ± std. dev. of 7 runs, 1 loop each)\n"
     ]
    }
   ],
   "source": [
    "# Combine all overlapping exon intervals into contiguous regions\n",
    "# Using pyranges\n",
    "# %timeit exon_intervals_pr = human_gr[human_gr.Feature == \"exon\"].merge(strand=False)"
   ]
  },
  {
   "cell_type": "code",
   "execution_count": null,
   "metadata": {},
   "outputs": [],
   "source": [
    "# # using gffutils TODO: run\n",
    "# def exon_intervals_gffutls():\n",
    "#     exon_intervals = [\n",
    "#         gffutils.helpers.asinterval(exon) for exon in human_db.features_of_type(\"exon\")\n",
    "#     ]\n",
    "#     exon_intervals_sorted = sorted(exon_intervals, key=lambda x: (x.chrom, x.start))\n",
    "#     # Use pybedtools to merge overlapping intervals\n",
    "#     return pybedtools.BedTool(exon_intervals_sorted).merge()\n",
    "# %timeit exon_intervals_gff = exon_intervals_gffutls()"
   ]
  },
  {
   "cell_type": "code",
   "execution_count": 93,
   "metadata": {},
   "outputs": [
    {
     "name": "stdout",
     "output_type": "stream",
     "text": [
      "6.63 s ± 21 ms per loop (mean ± std. dev. of 7 runs, 1 loop each)\n"
     ]
    }
   ],
   "source": [
    "# # using sql\n",
    "# def find_exon_intervals_sql():\n",
    "#     exon_intervals = pd.read_sql_query(\"SELECT Chromosome, Start, End FROM human WHERE Feature = 'exon' ORDER BY Chromosome, Start\", conn)\n",
    "#     return pybedtools.BedTool.from_dataframe(exon_intervals).merge()\n",
    "# %timeit exon_intervals_sql = find_exon_intervals_sql()"
   ]
  },
  {
   "cell_type": "markdown",
   "metadata": {},
   "source": [
    "### Query 2: Finding Overlaps with a Specific Interval\n",
    "Find all gene features that overlap a given interval chr1:100000-200000"
   ]
  },
  {
   "cell_type": "code",
   "execution_count": null,
   "metadata": {},
   "outputs": [
    {
     "name": "stdout",
     "output_type": "stream",
     "text": [
      "399 ms ± 2.59 ms per loop (mean ± std. dev. of 7 runs, 1 loop each)\n"
     ]
    }
   ],
   "source": [
    "# Using pyranges\n",
    "# %timeit overlapping_genes_pr = human_gr[human_gr.Feature == \"gene\"].overlap(pr.from_dict({\"Chromosome\": [\"1\"], \"Start\": [100000], \"End\": [200000]}), strand=False)"
   ]
  },
  {
   "cell_type": "code",
   "execution_count": 144,
   "metadata": {},
   "outputs": [
    {
     "name": "stdout",
     "output_type": "stream",
     "text": [
      "1min 29s ± 414 ms per loop (mean ± std. dev. of 7 runs, 1 loop each)\n"
     ]
    }
   ],
   "source": [
    "# # using gffutils TODO: run\n",
    "# def overlapping_genes_gffutls():\n",
    "#     exon_intervals_overlapping = pybedtools.BedTool.from_dataframe(pd.DataFrame({\"Chromosome\": [\"1\"], \"Start\": [100000], \"End\": [200000]}))\n",
    "#     exon_intervals = [\n",
    "#         gffutils.helpers.asinterval(exon) for exon in human_db.features_of_type(\"exon\")\n",
    "#     ]\n",
    "#     exon_intervals_sorted = sorted(exon_intervals, key=lambda x: (x.chrom, x.start))\n",
    "#     # Use pybedtools to merge overlapping intervals\n",
    "#     return exon_intervals_overlapping.window(pybedtools.BedTool(exon_intervals_sorted).merge(), w=0)\n",
    "# %timeit overlapping_genes_gff = overlapping_genes_gffutls()"
   ]
  },
  {
   "cell_type": "code",
   "execution_count": 117,
   "metadata": {},
   "outputs": [
    {
     "name": "stdout",
     "output_type": "stream",
     "text": [
      "7.41 s ± 51.1 ms per loop (mean ± std. dev. of 7 runs, 1 loop each)\n"
     ]
    }
   ],
   "source": [
    "# # using sql\n",
    "# def find_overlapping_genes_sql():\n",
    "#     exon_intervals_overlapping = pybedtools.BedTool.from_dataframe(pd.DataFrame({\"Chromosome\": [\"1\"], \"Start\": [100000], \"End\": [200000]}))\n",
    "#     exon_intervals = pd.read_sql_query(\"SELECT Chromosome, Start, End FROM human WHERE Feature = 'exon' ORDER BY Chromosome, Start\", conn)\n",
    "#     return exon_intervals_overlapping.window(pybedtools.BedTool.from_dataframe(exon_intervals).merge(), w=0)\n",
    "# %timeit overlapping_genes_sql = find_overlapping_genes_sql()"
   ]
  },
  {
   "cell_type": "markdown",
   "metadata": {},
   "source": [
    "### Query 3: Subtracting Intervals\n",
    "Remove a set of repetitive regions from the exon features.\n",
    "\n",
    "chr1:15M-16M,20M-21M"
   ]
  },
  {
   "cell_type": "code",
   "execution_count": null,
   "metadata": {},
   "outputs": [
    {
     "name": "stdout",
     "output_type": "stream",
     "text": [
      "4.38 s ± 74.8 ms per loop (mean ± std. dev. of 7 runs, 1 loop each)\n"
     ]
    }
   ],
   "source": [
    "# # Using pyranges\n",
    "# %timeit subtracted_intervals_pr = human_gr[human_gr.Feature == \"exon\"].merge(strand=False).subtract(pr.from_dict({\"Chromosome\": [\"1\", \"1\"],\"Start\": [15000000, 20000000],\"End\": [16000000, 21000000],}))"
   ]
  },
  {
   "cell_type": "code",
   "execution_count": 145,
   "metadata": {},
   "outputs": [
    {
     "name": "stdout",
     "output_type": "stream",
     "text": [
      "1min 28s ± 441 ms per loop (mean ± std. dev. of 7 runs, 1 loop each)\n"
     ]
    }
   ],
   "source": [
    "# # using gffutils TODO: run\n",
    "# def subtracted_intervals_gffutls():\n",
    "#     exon_intervals_subtract = pybedtools.BedTool.from_dataframe(pd.DataFrame({\"Chromosome\": [\"1\", \"1\"], \"Start\": [15000000, 20000000], \"End\": [16000000, 21000000]}))\n",
    "#     exon_intervals = [\n",
    "#         gffutils.helpers.asinterval(exon) for exon in human_db.features_of_type(\"exon\")\n",
    "#     ]\n",
    "#     exon_intervals_sorted = sorted(exon_intervals, key=lambda x: (x.chrom, x.start))\n",
    "#     # Use pybedtools to merge overlapping intervals\n",
    "#     return pybedtools.BedTool(exon_intervals_sorted).merge().subtract(exon_intervals_subtract)\n",
    "# %timeit overlapping_genes_gff = overlapping_genes_gffutls()"
   ]
  },
  {
   "cell_type": "code",
   "execution_count": 142,
   "metadata": {},
   "outputs": [
    {
     "name": "stdout",
     "output_type": "stream",
     "text": [
      "7.28 s ± 37.2 ms per loop (mean ± std. dev. of 7 runs, 1 loop each)\n"
     ]
    }
   ],
   "source": [
    "# # using sql\n",
    "# def find_subtracted_intervals_sql():\n",
    "#     exon_intervals_subtract = pybedtools.BedTool.from_dataframe(pd.DataFrame({\"Chromosome\": [\"1\", \"1\"], \"Start\": [15000000, 20000000], \"End\": [16000000, 21000000]}))\n",
    "#     exon_intervals = pd.read_sql_query(\"SELECT Chromosome, Start, End FROM human WHERE Feature = 'exon' ORDER BY Chromosome, Start\", conn)\n",
    "#     # Use pybedtools to merge overlapping intervals\n",
    "#     return pybedtools.BedTool.from_dataframe(exon_intervals).merge().subtract(exon_intervals_subtract)\n",
    "# %timeit subtracted_intervals_sql = find_subtracted_intervals_sql()"
   ]
  },
  {
   "cell_type": "code",
   "execution_count": null,
   "metadata": {},
   "outputs": [],
   "source": []
  }
 ],
 "metadata": {
  "kernelspec": {
   "display_name": ".venv",
   "language": "python",
   "name": "python3"
  },
  "language_info": {
   "codemirror_mode": {
    "name": "ipython",
    "version": 3
   },
   "file_extension": ".py",
   "mimetype": "text/x-python",
   "name": "python",
   "nbconvert_exporter": "python",
   "pygments_lexer": "ipython3",
   "version": "3.12.3"
  }
 },
 "nbformat": 4,
 "nbformat_minor": 2
}
